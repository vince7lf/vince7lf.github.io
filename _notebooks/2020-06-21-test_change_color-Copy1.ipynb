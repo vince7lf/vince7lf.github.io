{
 "cells": [
  {
   "cell_type": "markdown",
   "metadata": {},
   "source": [
    "# Test script to replace color in an image"
   ]
  },
  {
   "cell_type": "markdown",
   "metadata": {},
   "source": [
    "Reference : \n",
    "* <https://machinelearningmastery.com/how-to-one-hot-encode-sequence-data-in-python/>\n",
    "* <https://stackoverflow.com/questions/46903885/map-rgb-semantic-maps-to-one-hot-encodings-and-vice-versa-in-tensorflow>\n",
    "* <https://datascience.stackexchange.com/questions/48338/why-are-my-predictions-broken-when-performing-image-segmentation-with-tensorflow>\n",
    "* <https://stackoverflow.com/questions/60761711/how-to-convert-multi-class-one-hot-tensor-to-rgb-in-tensorflow>\n",
    "* <https://machinelearningmastery.com/how-to-one-hot-encode-sequence-data-in-python/>\n",
    "* <https://discuss.pytorch.org/t/converting-class-tensor-from-segmentation-to-image/57165>"
   ]
  },
  {
   "cell_type": "markdown",
   "metadata": {},
   "source": [
    "Import necessary library"
   ]
  },
  {
   "cell_type": "code",
   "execution_count": 1,
   "metadata": {
    "scrolled": true
   },
   "outputs": [
    {
     "name": "stdout",
     "output_type": "stream",
     "text": [
      "\u001b[33mIgnoring pip: markers 'python_version < \"3\"' don't match your environment\u001b[0m\r\n",
      "Requirement already satisfied: torchvision in /localscratch/vincelf.9007740.0/pyenv36/lib/python3.6/site-packages\r\n",
      "Requirement already satisfied: numpy in /localscratch/vincelf.9007740.0/pyenv36/lib/python3.6/site-packages (from torchvision)\r\n",
      "Requirement already satisfied: pillow>=4.1.1 in /localscratch/vincelf.9007740.0/pyenv36/lib/python3.6/site-packages (from torchvision)\r\n",
      "Requirement already satisfied: torch==1.5.0 in /localscratch/vincelf.9007740.0/pyenv36/lib/python3.6/site-packages (from torchvision)\r\n",
      "Requirement already satisfied: future in /localscratch/vincelf.9007740.0/pyenv36/lib/python3.6/site-packages (from torch==1.5.0->torchvision)\r\n"
     ]
    }
   ],
   "source": [
    "!pip install --no-index torchvision"
   ]
  },
  {
   "cell_type": "code",
   "execution_count": 2,
   "metadata": {},
   "outputs": [],
   "source": [
    "from PIL import Image\n",
    "import numpy as np\n",
    "import os\n",
    "from skimage import io\n",
    "import math\n",
    "import torch\n",
    "import tensorflow as tf\n",
    "import scipy.misc\n",
    "import torchvision.transforms as transforms"
   ]
  },
  {
   "cell_type": "markdown",
   "metadata": {},
   "source": [
    "Load ground truth image and check the shape and the uniq colors"
   ]
  },
  {
   "cell_type": "code",
   "execution_count": 3,
   "metadata": {},
   "outputs": [
    {
     "data": {
      "image/png": "[encoded data removed]",
      "text/plain": [
       "<PIL.PngImagePlugin.PngImageFile image mode=RGB size=873x484 at 0x2B88323F43C8>"
      ]
     },
     "execution_count": 3,
     "metadata": {},
     "output_type": "execute_result"
    }
   ],
   "source": [
    "home_gt='/home/vincelf/downloads/freiburg_forest_annotated/test/GT_color'\n",
    "gt_color='b378-61_mask.png'\n",
    "gt_color_f = os.path.join(home_gt, gt_color)\n",
    "#gt_color_img = io.imread(gt_color_f)\n",
    "#gt_color_img.shape\n",
    "#(481, 868, 3)\n",
    "gt_color_img = Image.open(gt_color_f)\n",
    "gt_color_img"
   ]
  },
  {
   "cell_type": "code",
   "execution_count": 4,
   "metadata": {},
   "outputs": [
    {
     "data": {
      "text/plain": [
       "(484, 873, 3)"
      ]
     },
     "execution_count": 4,
     "metadata": {},
     "output_type": "execute_result"
    }
   ],
   "source": [
    "gt_color_img_rgb = gt_color_img.convert('RGB')\n",
    "gt_data = np.array(gt_color_img_rgb)   # \"data\" is a height x width x 4 numpy array\n",
    "gt_data.shape"
   ]
  },
  {
   "cell_type": "code",
   "execution_count": 5,
   "metadata": {},
   "outputs": [
    {
     "data": {
      "text/plain": [
       "{(0, 120, 255), (0, 255, 0), (102, 102, 51), (170, 170, 170)}"
      ]
     },
     "execution_count": 5,
     "metadata": {},
     "output_type": "execute_result"
    }
   ],
   "source": [
    "gt_color_ref = set( tuple(v) for m2d in gt_data for v in m2d )\n",
    "gt_color_ref"
   ]
  },
  {
   "cell_type": "code",
   "execution_count": 15,
   "metadata": {},
   "outputs": [],
   "source": [
    "gt_color_ref.add((0,0,0))"
   ]
  },
  {
   "cell_type": "markdown",
   "metadata": {},
   "source": [
    "Load predicted image and check the shape and the uniq colors"
   ]
  },
  {
   "cell_type": "code",
   "execution_count": 16,
   "metadata": {},
   "outputs": [
    {
     "data": {
      "image/png": "[encoded data removed]",
      "text/plain": [
       "<PIL.JpegImagePlugin.JpegImageFile image mode=RGB size=873x484 at 0x2B883299D6A0>"
      ]
     },
     "execution_count": 16,
     "metadata": {},
     "output_type": "execute_result"
    }
   ],
   "source": [
    "home_pred='/home/vincelf/upload'\n",
    "color_pred='b378-61_mask_pred_new_color.jpg'\n",
    "color_pred_f = os.path.join(home_pred, color_pred)\n",
    "color_pred_img_io_imread = io.imread(color_pred_f)\n",
    "color_pred_img = Image.open(color_pred_f)\n",
    "color_pred_img"
   ]
  },
  {
   "cell_type": "code",
   "execution_count": 17,
   "metadata": {},
   "outputs": [
    {
     "data": {
      "text/plain": [
       "(484, 873, 3)"
      ]
     },
     "execution_count": 17,
     "metadata": {},
     "output_type": "execute_result"
    }
   ],
   "source": [
    "color_pred_img_rgb = color_pred_img.convert('RGB')\n",
    "pred_data = np.array(color_pred_img_rgb)   # \"data\" is a height x width x 4 numpy array\n",
    "pred_data.shape"
   ]
  },
  {
   "cell_type": "markdown",
   "metadata": {},
   "source": [
    "check the uniq colors"
   ]
  },
  {
   "cell_type": "code",
   "execution_count": 18,
   "metadata": {},
   "outputs": [
    {
     "data": {
      "text/plain": [
       "{(0, 0, 0),\n",
       " (0, 0, 2),\n",
       " (0, 1, 0),\n",
       " (0, 119, 255),\n",
       " (0, 120, 253),\n",
       " (0, 120, 255),\n",
       " (0, 121, 254),\n",
       " (0, 121, 255),\n",
       " (0, 254, 0),\n",
       " (0, 255, 0),\n",
       " (0, 255, 1),\n",
       " (1, 0, 0),\n",
       " (1, 1, 1),\n",
       " (1, 119, 253),\n",
       " (1, 119, 255),\n",
       " (1, 255, 0),\n",
       " (1, 255, 1),\n",
       " (2, 120, 254),\n",
       " (2, 120, 255),\n",
       " (100, 102, 52),\n",
       " (100, 103, 50),\n",
       " (101, 101, 49),\n",
       " (101, 103, 53),\n",
       " (102, 102, 50),\n",
       " (102, 102, 52),\n",
       " (103, 101, 50),\n",
       " (103, 101, 52),\n",
       " (103, 103, 51),\n",
       " (103, 103, 53),\n",
       " (104, 102, 51),\n",
       " (104, 102, 53),\n",
       " (169, 169, 169),\n",
       " (169, 171, 168),\n",
       " (169, 171, 170),\n",
       " (170, 170, 168),\n",
       " (170, 170, 170),\n",
       " (170, 170, 172),\n",
       " (171, 169, 170),\n",
       " (171, 169, 172),\n",
       " (171, 170, 168),\n",
       " (171, 171, 171),\n",
       " (171, 171, 173),\n",
       " (172, 170, 171)}"
      ]
     },
     "execution_count": 18,
     "metadata": {},
     "output_type": "execute_result"
    }
   ],
   "source": [
    "color_set = set( tuple(v) for m2d in pred_data for v in m2d )\n",
    "color_set"
   ]
  },
  {
   "cell_type": "code",
   "execution_count": 19,
   "metadata": {},
   "outputs": [
    {
     "name": "stdout",
     "output_type": "stream",
     "text": [
      "[(102, 102, 51)]\n",
      "(101, 101, 49) 101.0 0.0 101.0 102.0 (102, 102, 51)\n",
      "[(0, 120, 255), (0, 0, 0), (0, 255, 0)]\n",
      "(0, 255, 1) 0.0 0.0 255.0 255.0 (0, 255, 0)\n",
      "[(170, 170, 170)]\n",
      "(171, 169, 170) 171.0 0.0 169.0 170.0 (170, 170, 170)\n",
      "[(0, 120, 255), (0, 0, 0), (0, 255, 0)]\n",
      "(1, 0, 0) 1.0 0.0 0.0 255.0 (0, 0, 0)\n",
      "[(0, 120, 255), (0, 0, 0), (0, 255, 0)]\n",
      "(1, 119, 253) 1.0 0.0 119.0 255.0 (0, 120, 255)\n",
      "[(102, 102, 51)]\n",
      "(104, 102, 51) 104.0 0.0 102.0 102.0 (102, 102, 51)\n",
      "[(0, 120, 255), (0, 0, 0), (0, 255, 0)]\n",
      "(0, 120, 255) 0.0 0.0 120.0 255.0 (0, 120, 255)\n",
      "[(170, 170, 170)]\n",
      "(169, 169, 169) 169.0 0.0 169.0 170.0 (170, 170, 170)\n",
      "[(170, 170, 170)]\n",
      "(170, 170, 170) 170.0 0.0 170.0 170.0 (170, 170, 170)\n",
      "[(0, 120, 255), (0, 0, 0), (0, 255, 0)]\n",
      "(0, 120, 253) 0.0 0.0 120.0 255.0 (0, 120, 255)\n",
      "[(102, 102, 51)]\n",
      "(100, 103, 50) 100.0 0.0 103.0 102.0 (102, 102, 51)\n",
      "[(170, 170, 170)]\n",
      "(170, 170, 168) 170.0 0.0 170.0 170.0 (170, 170, 170)\n",
      "[(0, 120, 255), (0, 0, 0), (0, 255, 0)]\n",
      "(2, 120, 255) 2.0 0.0 120.0 255.0 (0, 120, 255)\n",
      "[(170, 170, 170)]\n",
      "(169, 171, 170) 169.0 0.0 171.0 170.0 (170, 170, 170)\n",
      "[(0, 120, 255), (0, 0, 0), (0, 255, 0)]\n",
      "(2, 120, 254) 2.0 0.0 120.0 255.0 (0, 120, 255)\n",
      "[(170, 170, 170)]\n",
      "(172, 170, 171) 172.0 0.0 170.0 170.0 (170, 170, 170)\n",
      "[(170, 170, 170)]\n",
      "(171, 170, 168) 171.0 0.0 170.0 170.0 (170, 170, 170)\n",
      "[(170, 170, 170)]\n",
      "(169, 171, 168) 169.0 0.0 171.0 170.0 (170, 170, 170)\n",
      "[(0, 120, 255), (0, 0, 0), (0, 255, 0)]\n",
      "(1, 255, 1) 1.0 0.0 255.0 255.0 (0, 255, 0)\n",
      "[(102, 102, 51)]\n",
      "(102, 102, 50) 102.0 0.0 102.0 102.0 (102, 102, 51)\n",
      "[(170, 170, 170)]\n",
      "(170, 170, 172) 170.0 0.0 170.0 170.0 (170, 170, 170)\n",
      "[(0, 120, 255), (0, 0, 0), (0, 255, 0)]\n",
      "(0, 0, 2) 0.0 0.0 0.0 255.0 (0, 0, 0)\n",
      "[(0, 120, 255), (0, 0, 0), (0, 255, 0)]\n",
      "(1, 255, 0) 1.0 0.0 255.0 255.0 (0, 255, 0)\n",
      "[(102, 102, 51)]\n",
      "(103, 103, 51) 103.0 0.0 103.0 102.0 (102, 102, 51)\n",
      "[(0, 120, 255), (0, 0, 0), (0, 255, 0)]\n",
      "(0, 119, 255) 0.0 0.0 119.0 255.0 (0, 120, 255)\n",
      "[(0, 120, 255), (0, 0, 0), (0, 255, 0)]\n",
      "(0, 0, 0) 0.0 0.0 0.0 255.0 (0, 0, 0)\n",
      "[(0, 120, 255), (0, 0, 0), (0, 255, 0)]\n",
      "(0, 254, 0) 0.0 0.0 254.0 255.0 (0, 255, 0)\n",
      "[(102, 102, 51)]\n",
      "(103, 103, 53) 103.0 0.0 103.0 102.0 (102, 102, 51)\n",
      "[(102, 102, 51)]\n",
      "(103, 101, 52) 103.0 0.0 101.0 102.0 (102, 102, 51)\n",
      "[(170, 170, 170)]\n",
      "(171, 171, 171) 171.0 0.0 171.0 170.0 (170, 170, 170)\n",
      "[(0, 120, 255), (0, 0, 0), (0, 255, 0)]\n",
      "(1, 1, 1) 1.0 0.0 1.0 255.0 (0, 0, 0)\n",
      "[(102, 102, 51)]\n",
      "(104, 102, 53) 104.0 0.0 102.0 102.0 (102, 102, 51)\n",
      "[(0, 120, 255), (0, 0, 0), (0, 255, 0)]\n",
      "(0, 121, 254) 0.0 0.0 121.0 255.0 (0, 120, 255)\n",
      "[(102, 102, 51)]\n",
      "(103, 101, 50) 103.0 0.0 101.0 102.0 (102, 102, 51)\n",
      "[(102, 102, 51)]\n",
      "(100, 102, 52) 100.0 0.0 102.0 102.0 (102, 102, 51)\n",
      "[(170, 170, 170)]\n",
      "(171, 171, 173) 171.0 0.0 171.0 170.0 (170, 170, 170)\n",
      "[(0, 120, 255), (0, 0, 0), (0, 255, 0)]\n",
      "(0, 121, 255) 0.0 0.0 121.0 255.0 (0, 120, 255)\n",
      "[(102, 102, 51)]\n",
      "(102, 102, 52) 102.0 0.0 102.0 102.0 (102, 102, 51)\n",
      "[(170, 170, 170)]\n",
      "(171, 169, 172) 171.0 0.0 169.0 170.0 (170, 170, 170)\n",
      "[(102, 102, 51)]\n",
      "(101, 103, 53) 101.0 0.0 103.0 102.0 (102, 102, 51)\n",
      "[(0, 120, 255), (0, 0, 0), (0, 255, 0)]\n",
      "(0, 1, 0) 0.0 0.0 1.0 255.0 (0, 0, 0)\n",
      "[(0, 120, 255), (0, 0, 0), (0, 255, 0)]\n",
      "(0, 255, 0) 0.0 0.0 255.0 255.0 (0, 255, 0)\n",
      "[(0, 120, 255), (0, 0, 0), (0, 255, 0)]\n",
      "(1, 119, 255) 1.0 0.0 119.0 255.0 (0, 120, 255)\n",
      "[[(101, 101, 49), (102, 102, 51)], [(0, 255, 1), (0, 255, 0)], [(171, 169, 170), (170, 170, 170)], [(1, 0, 0), (0, 0, 0)], [(1, 119, 253), (0, 120, 255)], [(104, 102, 51), (102, 102, 51)], [(0, 120, 255), (0, 120, 255)], [(169, 169, 169), (170, 170, 170)], [(170, 170, 170), (170, 170, 170)], [(0, 120, 253), (0, 120, 255)], [(100, 103, 50), (102, 102, 51)], [(170, 170, 168), (170, 170, 170)], [(2, 120, 255), (0, 120, 255)], [(169, 171, 170), (170, 170, 170)], [(2, 120, 254), (0, 120, 255)], [(172, 170, 171), (170, 170, 170)], [(171, 170, 168), (170, 170, 170)], [(169, 171, 168), (170, 170, 170)], [(1, 255, 1), (0, 255, 0)], [(102, 102, 50), (102, 102, 51)], [(170, 170, 172), (170, 170, 170)], [(0, 0, 2), (0, 0, 0)], [(1, 255, 0), (0, 255, 0)], [(103, 103, 51), (102, 102, 51)], [(0, 119, 255), (0, 120, 255)], [(0, 0, 0), (0, 0, 0)], [(0, 254, 0), (0, 255, 0)], [(103, 103, 53), (102, 102, 51)], [(103, 101, 52), (102, 102, 51)], [(171, 171, 171), (170, 170, 170)], [(1, 1, 1), (0, 0, 0)], [(104, 102, 53), (102, 102, 51)], [(0, 121, 254), (0, 120, 255)], [(103, 101, 50), (102, 102, 51)], [(100, 102, 52), (102, 102, 51)], [(171, 171, 173), (170, 170, 170)], [(0, 121, 255), (0, 120, 255)], [(102, 102, 52), (102, 102, 51)], [(171, 169, 172), (170, 170, 170)], [(101, 103, 53), (102, 102, 51)], [(0, 1, 0), (0, 0, 0)], [(0, 255, 0), (0, 255, 0)], [(1, 119, 255), (0, 120, 255)]]\n"
     ]
    }
   ],
   "source": [
    "ref_color_set = gt_color_ref\n",
    "color_set_map = []\n",
    "for color in color_set:\n",
    "    these_ref_color = []\n",
    "    c1 = color[0] + 0.00001\n",
    "    for ref_color in ref_color_set:\n",
    "        ref_c1 = ref_color[0] + 0.00001\n",
    "        rel_c1 = round(math.sqrt(abs(c1 - ref_c1)**2))\n",
    "        if( rel_c1 <= 2 ):\n",
    "            these_ref_color.append(ref_color)\n",
    "    print(these_ref_color)\n",
    "    # loop in the sub array if more than one color\n",
    "    this_ref_color = ()\n",
    "    c2 = color[1] + 0.00001\n",
    "    for ref_color in these_ref_color:\n",
    "        ref_c2 = ref_color[1] + 0.00001\n",
    "        rel_c2 = round(math.sqrt(abs(c2 - ref_c2)**2))\n",
    "        if( rel_c2 <= 2 ):\n",
    "            this_ref_color = ref_color\n",
    "    print(color, round(c1), round(ref_c1), round(c2), round(ref_c2), this_ref_color)\n",
    "    color_set_map.append([color, this_ref_color])\n",
    "print(color_set_map)"
   ]
  },
  {
   "cell_type": "code",
   "execution_count": 20,
   "metadata": {
    "scrolled": true
   },
   "outputs": [
    {
     "data": {
      "text/plain": [
       "(array([[0, 0, 0, ..., 0, 0, 0],\n",
       "        [0, 0, 0, ..., 0, 0, 0],\n",
       "        [0, 0, 0, ..., 0, 0, 0],\n",
       "        ...,\n",
       "        [0, 0, 0, ..., 0, 0, 0],\n",
       "        [0, 0, 0, ..., 0, 0, 0],\n",
       "        [0, 0, 0, ..., 0, 0, 0]], dtype=uint8),\n",
       " array([[255, 255, 255, ..., 255, 255, 255],\n",
       "        [255, 255, 255, ..., 255, 255, 255],\n",
       "        [255, 255, 255, ..., 255, 255, 255],\n",
       "        ...,\n",
       "        [120, 120, 120, ..., 255, 255, 255],\n",
       "        [120, 120, 120, ..., 255, 255, 255],\n",
       "        [120, 120, 120, ..., 255, 255, 255]], dtype=uint8),\n",
       " array([[  1,   1,   1, ...,   1,   1,   1],\n",
       "        [  1,   1,   1, ...,   1,   1,   1],\n",
       "        [  1,   1,   1, ...,   1,   1,   1],\n",
       "        ...,\n",
       "        [255, 255, 255, ...,   1,   1,   1],\n",
       "        [255, 255, 255, ...,   1,   1,   1],\n",
       "        [255, 255, 255, ...,   1,   1,   1]], dtype=uint8))"
      ]
     },
     "execution_count": 20,
     "metadata": {},
     "output_type": "execute_result"
    }
   ],
   "source": [
    "red, green, blue = pred_data.T # Temporarily unpack the bands for readability\n",
    "red, green, blue"
   ]
  },
  {
   "cell_type": "markdown",
   "metadata": {},
   "source": [
    "replace some color by it's reference"
   ]
  },
  {
   "cell_type": "code",
   "execution_count": 21,
   "metadata": {},
   "outputs": [],
   "source": [
    "# Replace pred_color with reference\n",
    "# source: https://stackoverflow.com/questions/3752476/python-pil-replace-a-single-rgba-color\n",
    "# some_color = (red == 101) & (green == 101) & (blue == 49)\n",
    "# pred_data[some_color.T] = (102, 102, 51) # Transpose back needed"
   ]
  },
  {
   "cell_type": "code",
   "execution_count": 22,
   "metadata": {},
   "outputs": [],
   "source": [
    "for c in color_set_map:\n",
    "    # Replace pred_color with reference\n",
    "    some_color = (red == c[0][0]) & (green == c[0][1]) & (blue == c[0][2])\n",
    "    pred_data[some_color.T] = (c[1][0], c[1][1], c[1][2]) # Transpose back needed"
   ]
  },
  {
   "cell_type": "code",
   "execution_count": 23,
   "metadata": {},
   "outputs": [
    {
     "data": {
      "text/plain": [
       "(484, 873, 3)"
      ]
     },
     "execution_count": 23,
     "metadata": {},
     "output_type": "execute_result"
    }
   ],
   "source": [
    "pred_data.shape"
   ]
  },
  {
   "cell_type": "code",
   "execution_count": 24,
   "metadata": {},
   "outputs": [
    {
     "data": {
      "text/plain": [
       "array([[[  0, 255,   0],\n",
       "        [  0, 255,   0],\n",
       "        [  0, 255,   0],\n",
       "        ...,\n",
       "        [  0, 120, 255],\n",
       "        [  0, 120, 255],\n",
       "        [  0, 120, 255]],\n",
       "\n",
       "       [[  0, 255,   0],\n",
       "        [  0, 255,   0],\n",
       "        [  0, 255,   0],\n",
       "        ...,\n",
       "        [  0, 120, 255],\n",
       "        [  0, 120, 255],\n",
       "        [  0, 120, 255]],\n",
       "\n",
       "       [[  0, 255,   0],\n",
       "        [  0, 255,   0],\n",
       "        [  0, 255,   0],\n",
       "        ...,\n",
       "        [  0, 120, 255],\n",
       "        [  0, 120, 255],\n",
       "        [  0, 120, 255]],\n",
       "\n",
       "       ...,\n",
       "\n",
       "       [[  0, 255,   0],\n",
       "        [  0, 255,   0],\n",
       "        [  0, 255,   0],\n",
       "        ...,\n",
       "        [  0, 255,   0],\n",
       "        [  0, 255,   0],\n",
       "        [  0, 255,   0]],\n",
       "\n",
       "       [[  0, 255,   0],\n",
       "        [  0, 255,   0],\n",
       "        [  0, 255,   0],\n",
       "        ...,\n",
       "        [  0, 255,   0],\n",
       "        [  0, 255,   0],\n",
       "        [  0, 255,   0]],\n",
       "\n",
       "       [[  0, 255,   0],\n",
       "        [  0, 255,   0],\n",
       "        [  0, 255,   0],\n",
       "        ...,\n",
       "        [  0, 255,   0],\n",
       "        [  0, 255,   0],\n",
       "        [  0, 255,   0]]], dtype=uint8)"
      ]
     },
     "execution_count": 24,
     "metadata": {},
     "output_type": "execute_result"
    }
   ],
   "source": [
    "pred_data"
   ]
  },
  {
   "cell_type": "code",
   "execution_count": 25,
   "metadata": {},
   "outputs": [
    {
     "data": {
      "text/plain": [
       "{(0, 0, 0), (0, 120, 255), (0, 255, 0), (102, 102, 51), (170, 170, 170)}"
      ]
     },
     "execution_count": 25,
     "metadata": {},
     "output_type": "execute_result"
    }
   ],
   "source": [
    "color_set = set( tuple(v) for m2d in pred_data for v in m2d )\n",
    "color_set"
   ]
  },
  {
   "cell_type": "markdown",
   "metadata": {},
   "source": [
    "reconvert into an image"
   ]
  },
  {
   "cell_type": "code",
   "execution_count": 26,
   "metadata": {
    "scrolled": false
   },
   "outputs": [
    {
     "data": {
      "image/png": "[encoded data removed]",
      "text/plain": [
       "<PIL.Image.Image image mode=RGB size=873x484 at 0x2B883299D9B0>"
      ]
     },
     "execution_count": 26,
     "metadata": {},
     "output_type": "execute_result"
    }
   ],
   "source": [
    "im2 = Image.fromarray(pred_data)\n",
    "im2"
   ]
  },
  {
   "cell_type": "code",
   "execution_count": 27,
   "metadata": {},
   "outputs": [
    {
     "data": {
      "image/png": "[encoded data removed]",
      "text/plain": [
       "<PIL.Image.Image image mode=RGB size=873x484 at 0x2B883299D278>"
      ]
     },
     "execution_count": 27,
     "metadata": {},
     "output_type": "execute_result"
    }
   ],
   "source": [
    "color_pred_img_rgb"
   ]
  },
  {
   "cell_type": "markdown",
   "metadata": {},
   "source": [
    "convert color to class"
   ]
  },
  {
   "cell_type": "code",
   "execution_count": 28,
   "metadata": {},
   "outputs": [
    {
     "data": {
      "text/plain": [
       "array([[  0, 120, 255],\n",
       "       [  0,   0,   0],\n",
       "       [170, 170, 170],\n",
       "       [102, 102,  51],\n",
       "       [  0, 255,   0]], dtype=uint8)"
      ]
     },
     "execution_count": 28,
     "metadata": {},
     "output_type": "execute_result"
    }
   ],
   "source": [
    "#palette = np.array([(0, 120, 255), (0, 255, 0), (102, 102, 51), (170, 170, 170)], np.uint8)\n",
    "palette = np.array(list(gt_color_ref), np.uint8)\n",
    "palette"
   ]
  },
  {
   "cell_type": "code",
   "execution_count": 29,
   "metadata": {},
   "outputs": [
    {
     "data": {
      "text/plain": [
       "array([[[  0, 255,   1],\n",
       "        [  0, 255,   1],\n",
       "        [  0, 255,   1],\n",
       "        ...,\n",
       "        [  0, 120, 255],\n",
       "        [  0, 120, 255],\n",
       "        [  0, 120, 255]],\n",
       "\n",
       "       [[  0, 255,   1],\n",
       "        [  0, 255,   1],\n",
       "        [  0, 255,   1],\n",
       "        ...,\n",
       "        [  0, 120, 255],\n",
       "        [  0, 120, 255],\n",
       "        [  0, 120, 255]],\n",
       "\n",
       "       [[  0, 255,   1],\n",
       "        [  0, 255,   1],\n",
       "        [  0, 255,   1],\n",
       "        ...,\n",
       "        [  0, 120, 255],\n",
       "        [  0, 120, 255],\n",
       "        [  0, 120, 255]],\n",
       "\n",
       "       ...,\n",
       "\n",
       "       [[  0, 255,   1],\n",
       "        [  0, 255,   1],\n",
       "        [  0, 255,   1],\n",
       "        ...,\n",
       "        [  0, 255,   1],\n",
       "        [  0, 255,   1],\n",
       "        [  0, 255,   1]],\n",
       "\n",
       "       [[  0, 255,   1],\n",
       "        [  0, 255,   1],\n",
       "        [  0, 255,   1],\n",
       "        ...,\n",
       "        [  0, 255,   1],\n",
       "        [  0, 255,   1],\n",
       "        [  0, 255,   1]],\n",
       "\n",
       "       [[  0, 255,   1],\n",
       "        [  0, 255,   1],\n",
       "        [  0, 255,   1],\n",
       "        ...,\n",
       "        [  0, 255,   1],\n",
       "        [  0, 255,   1],\n",
       "        [  0, 255,   1]]], dtype=uint8)"
      ]
     },
     "execution_count": 29,
     "metadata": {},
     "output_type": "execute_result"
    }
   ],
   "source": [
    "color_pred_img_io_imread"
   ]
  },
  {
   "cell_type": "code",
   "execution_count": 30,
   "metadata": {},
   "outputs": [
    {
     "data": {
      "text/plain": [
       "[<tf.Tensor: shape=(484, 873), dtype=bool, numpy=\n",
       " array([[False, False, False, ...,  True,  True,  True],\n",
       "        [False, False, False, ...,  True,  True,  True],\n",
       "        [False, False, False, ...,  True,  True,  True],\n",
       "        ...,\n",
       "        [False, False, False, ..., False, False, False],\n",
       "        [False, False, False, ..., False, False, False],\n",
       "        [False, False, False, ..., False, False, False]])>,\n",
       " <tf.Tensor: shape=(484, 873), dtype=bool, numpy=\n",
       " array([[False, False, False, ..., False, False, False],\n",
       "        [False, False, False, ..., False, False, False],\n",
       "        [False, False, False, ..., False, False, False],\n",
       "        ...,\n",
       "        [False, False, False, ..., False, False, False],\n",
       "        [False, False, False, ..., False, False, False],\n",
       "        [False, False, False, ..., False, False, False]])>,\n",
       " <tf.Tensor: shape=(484, 873), dtype=bool, numpy=\n",
       " array([[False, False, False, ..., False, False, False],\n",
       "        [False, False, False, ..., False, False, False],\n",
       "        [False, False, False, ..., False, False, False],\n",
       "        ...,\n",
       "        [False, False, False, ..., False, False, False],\n",
       "        [False, False, False, ..., False, False, False],\n",
       "        [False, False, False, ..., False, False, False]])>,\n",
       " <tf.Tensor: shape=(484, 873), dtype=bool, numpy=\n",
       " array([[False, False, False, ..., False, False, False],\n",
       "        [False, False, False, ..., False, False, False],\n",
       "        [False, False, False, ..., False, False, False],\n",
       "        ...,\n",
       "        [False, False, False, ..., False, False, False],\n",
       "        [False, False, False, ..., False, False, False],\n",
       "        [False, False, False, ..., False, False, False]])>,\n",
       " <tf.Tensor: shape=(484, 873), dtype=bool, numpy=\n",
       " array([[ True,  True,  True, ..., False, False, False],\n",
       "        [ True,  True,  True, ..., False, False, False],\n",
       "        [ True,  True,  True, ..., False, False, False],\n",
       "        ...,\n",
       "        [ True,  True,  True, ...,  True,  True,  True],\n",
       "        [ True,  True,  True, ...,  True,  True,  True],\n",
       "        [ True,  True,  True, ...,  True,  True,  True]])>]"
      ]
     },
     "execution_count": 30,
     "metadata": {},
     "output_type": "execute_result"
    }
   ],
   "source": [
    "semantic_map = []\n",
    "for colour in palette:\n",
    "  class_map = tf.reduce_all(tf.equal(pred_data, colour), axis=-1)\n",
    "  semantic_map.append(class_map)\n",
    "semantic_map"
   ]
  },
  {
   "cell_type": "code",
   "execution_count": 31,
   "metadata": {},
   "outputs": [
    {
     "data": {
      "text/plain": [
       "<tf.Tensor: shape=(484, 873, 5), dtype=bool, numpy=\n",
       "array([[[False, False, False, False,  True],\n",
       "        [False, False, False, False,  True],\n",
       "        [False, False, False, False,  True],\n",
       "        ...,\n",
       "        [ True, False, False, False, False],\n",
       "        [ True, False, False, False, False],\n",
       "        [ True, False, False, False, False]],\n",
       "\n",
       "       [[False, False, False, False,  True],\n",
       "        [False, False, False, False,  True],\n",
       "        [False, False, False, False,  True],\n",
       "        ...,\n",
       "        [ True, False, False, False, False],\n",
       "        [ True, False, False, False, False],\n",
       "        [ True, False, False, False, False]],\n",
       "\n",
       "       [[False, False, False, False,  True],\n",
       "        [False, False, False, False,  True],\n",
       "        [False, False, False, False,  True],\n",
       "        ...,\n",
       "        [ True, False, False, False, False],\n",
       "        [ True, False, False, False, False],\n",
       "        [ True, False, False, False, False]],\n",
       "\n",
       "       ...,\n",
       "\n",
       "       [[False, False, False, False,  True],\n",
       "        [False, False, False, False,  True],\n",
       "        [False, False, False, False,  True],\n",
       "        ...,\n",
       "        [False, False, False, False,  True],\n",
       "        [False, False, False, False,  True],\n",
       "        [False, False, False, False,  True]],\n",
       "\n",
       "       [[False, False, False, False,  True],\n",
       "        [False, False, False, False,  True],\n",
       "        [False, False, False, False,  True],\n",
       "        ...,\n",
       "        [False, False, False, False,  True],\n",
       "        [False, False, False, False,  True],\n",
       "        [False, False, False, False,  True]],\n",
       "\n",
       "       [[False, False, False, False,  True],\n",
       "        [False, False, False, False,  True],\n",
       "        [False, False, False, False,  True],\n",
       "        ...,\n",
       "        [False, False, False, False,  True],\n",
       "        [False, False, False, False,  True],\n",
       "        [False, False, False, False,  True]]])>"
      ]
     },
     "execution_count": 31,
     "metadata": {},
     "output_type": "execute_result"
    }
   ],
   "source": [
    "semantic_map = tf.stack(semantic_map, axis=-1)\n",
    "semantic_map"
   ]
  },
  {
   "cell_type": "code",
   "execution_count": 32,
   "metadata": {},
   "outputs": [
    {
     "data": {
      "text/plain": [
       "<tf.Tensor: shape=(484, 873, 5), dtype=float32, numpy=\n",
       "array([[[0., 0., 0., 0., 1.],\n",
       "        [0., 0., 0., 0., 1.],\n",
       "        [0., 0., 0., 0., 1.],\n",
       "        ...,\n",
       "        [1., 0., 0., 0., 0.],\n",
       "        [1., 0., 0., 0., 0.],\n",
       "        [1., 0., 0., 0., 0.]],\n",
       "\n",
       "       [[0., 0., 0., 0., 1.],\n",
       "        [0., 0., 0., 0., 1.],\n",
       "        [0., 0., 0., 0., 1.],\n",
       "        ...,\n",
       "        [1., 0., 0., 0., 0.],\n",
       "        [1., 0., 0., 0., 0.],\n",
       "        [1., 0., 0., 0., 0.]],\n",
       "\n",
       "       [[0., 0., 0., 0., 1.],\n",
       "        [0., 0., 0., 0., 1.],\n",
       "        [0., 0., 0., 0., 1.],\n",
       "        ...,\n",
       "        [1., 0., 0., 0., 0.],\n",
       "        [1., 0., 0., 0., 0.],\n",
       "        [1., 0., 0., 0., 0.]],\n",
       "\n",
       "       ...,\n",
       "\n",
       "       [[0., 0., 0., 0., 1.],\n",
       "        [0., 0., 0., 0., 1.],\n",
       "        [0., 0., 0., 0., 1.],\n",
       "        ...,\n",
       "        [0., 0., 0., 0., 1.],\n",
       "        [0., 0., 0., 0., 1.],\n",
       "        [0., 0., 0., 0., 1.]],\n",
       "\n",
       "       [[0., 0., 0., 0., 1.],\n",
       "        [0., 0., 0., 0., 1.],\n",
       "        [0., 0., 0., 0., 1.],\n",
       "        ...,\n",
       "        [0., 0., 0., 0., 1.],\n",
       "        [0., 0., 0., 0., 1.],\n",
       "        [0., 0., 0., 0., 1.]],\n",
       "\n",
       "       [[0., 0., 0., 0., 1.],\n",
       "        [0., 0., 0., 0., 1.],\n",
       "        [0., 0., 0., 0., 1.],\n",
       "        ...,\n",
       "        [0., 0., 0., 0., 1.],\n",
       "        [0., 0., 0., 0., 1.],\n",
       "        [0., 0., 0., 0., 1.]]], dtype=float32)>"
      ]
     },
     "execution_count": 32,
     "metadata": {},
     "output_type": "execute_result"
    }
   ],
   "source": [
    "# NOTE cast to tf.float32 because most neural networks operate in float32.\n",
    "semantic_map = tf.cast(semantic_map, tf.float32)\n",
    "semantic_map"
   ]
  },
  {
   "cell_type": "code",
   "execution_count": 33,
   "metadata": {},
   "outputs": [
    {
     "data": {
      "text/plain": [
       "TensorShape([484, 873, 5])"
      ]
     },
     "execution_count": 33,
     "metadata": {},
     "output_type": "execute_result"
    }
   ],
   "source": [
    "semantic_map.shape"
   ]
  },
  {
   "cell_type": "code",
   "execution_count": 34,
   "metadata": {},
   "outputs": [
    {
     "data": {
      "text/plain": [
       "array([[[[0., 0., 0., 0., 1.],\n",
       "         [0., 0., 0., 0., 1.],\n",
       "         [0., 0., 0., 0., 1.],\n",
       "         ...,\n",
       "         [1., 0., 0., 0., 0.],\n",
       "         [1., 0., 0., 0., 0.],\n",
       "         [1., 0., 0., 0., 0.]],\n",
       "\n",
       "        [[0., 0., 0., 0., 1.],\n",
       "         [0., 0., 0., 0., 1.],\n",
       "         [0., 0., 0., 0., 1.],\n",
       "         ...,\n",
       "         [1., 0., 0., 0., 0.],\n",
       "         [1., 0., 0., 0., 0.],\n",
       "         [1., 0., 0., 0., 0.]],\n",
       "\n",
       "        [[0., 0., 0., 0., 1.],\n",
       "         [0., 0., 0., 0., 1.],\n",
       "         [0., 0., 0., 0., 1.],\n",
       "         ...,\n",
       "         [1., 0., 0., 0., 0.],\n",
       "         [1., 0., 0., 0., 0.],\n",
       "         [1., 0., 0., 0., 0.]],\n",
       "\n",
       "        ...,\n",
       "\n",
       "        [[0., 0., 0., 0., 1.],\n",
       "         [0., 0., 0., 0., 1.],\n",
       "         [0., 0., 0., 0., 1.],\n",
       "         ...,\n",
       "         [0., 0., 0., 0., 1.],\n",
       "         [0., 0., 0., 0., 1.],\n",
       "         [0., 0., 0., 0., 1.]],\n",
       "\n",
       "        [[0., 0., 0., 0., 1.],\n",
       "         [0., 0., 0., 0., 1.],\n",
       "         [0., 0., 0., 0., 1.],\n",
       "         ...,\n",
       "         [0., 0., 0., 0., 1.],\n",
       "         [0., 0., 0., 0., 1.],\n",
       "         [0., 0., 0., 0., 1.]],\n",
       "\n",
       "        [[0., 0., 0., 0., 1.],\n",
       "         [0., 0., 0., 0., 1.],\n",
       "         [0., 0., 0., 0., 1.],\n",
       "         ...,\n",
       "         [0., 0., 0., 0., 1.],\n",
       "         [0., 0., 0., 0., 1.],\n",
       "         [0., 0., 0., 0., 1.]]]], dtype=float32)"
      ]
     },
     "execution_count": 34,
     "metadata": {},
     "output_type": "execute_result"
    }
   ],
   "source": [
    "y_pred = np.expand_dims(semantic_map,0)\n",
    "y_pred"
   ]
  },
  {
   "cell_type": "code",
   "execution_count": 35,
   "metadata": {},
   "outputs": [
    {
     "data": {
      "text/plain": [
       "(1, 484, 873, 5)"
      ]
     },
     "execution_count": 35,
     "metadata": {},
     "output_type": "execute_result"
    }
   ],
   "source": [
    "y_pred.shape"
   ]
  },
  {
   "cell_type": "code",
   "execution_count": 36,
   "metadata": {},
   "outputs": [],
   "source": [
    "def iou_score(y_true, y_pred):\n",
    "  intersection = np.logical_and(y_true, y_pred)\n",
    "  union = np.logical_or(y_true, y_pred)\n",
    "  iou_score = np.sum(intersection) / np.sum(union)\n",
    "  return iou_score"
   ]
  },
  {
   "cell_type": "code",
   "execution_count": 37,
   "metadata": {},
   "outputs": [
    {
     "data": {
      "text/plain": [
       "(1, 484, 873, 5)"
      ]
     },
     "execution_count": 37,
     "metadata": {},
     "output_type": "execute_result"
    }
   ],
   "source": [
    "gt_semantic_map = []\n",
    "for colour in palette:\n",
    "  class_map = tf.reduce_all(tf.equal(gt_data, colour), axis=-1)\n",
    "  gt_semantic_map.append(class_map)\n",
    "gt_semantic_map\n",
    "gt_semantic_map = tf.stack(gt_semantic_map, axis=-1)\n",
    "gt_semantic_map\n",
    "# NOTE cast to tf.float32 because most neural networks operate in float32.\n",
    "gt_semantic_map = tf.cast(gt_semantic_map, tf.float32)\n",
    "gt_semantic_map\n",
    "y_true = np.expand_dims(gt_semantic_map,0)\n",
    "y_true.shape"
   ]
  },
  {
   "cell_type": "code",
   "execution_count": 57,
   "metadata": {},
   "outputs": [
    {
     "data": {
      "text/plain": [
       "0.2021201232471002"
      ]
     },
     "execution_count": 57,
     "metadata": {},
     "output_type": "execute_result"
    }
   ],
   "source": [
    "iou_score(y_true, y_pred)"
   ]
  },
  {
   "cell_type": "code",
   "execution_count": 58,
   "metadata": {},
   "outputs": [],
   "source": [
    "#palette = tf.constant(palette, dtype=tf.uint8)\n",
    "#palette"
   ]
  },
  {
   "cell_type": "code",
   "execution_count": 59,
   "metadata": {},
   "outputs": [],
   "source": [
    "#class_indexes = tf.argmax(semantic_map, axis=-1)\n",
    "#class_indexes.shape"
   ]
  },
  {
   "cell_type": "code",
   "execution_count": 60,
   "metadata": {},
   "outputs": [],
   "source": [
    "#new = np.expand_dims(class_indexes,0)\n",
    "#new.shape"
   ]
  },
  {
   "cell_type": "code",
   "execution_count": 61,
   "metadata": {},
   "outputs": [],
   "source": [
    "#new2 = np.stack((new,)*4,-1)\n",
    "#new2.shape"
   ]
  },
  {
   "cell_type": "code",
   "execution_count": 62,
   "metadata": {},
   "outputs": [],
   "source": [
    "#new2"
   ]
  },
  {
   "cell_type": "code",
   "execution_count": 63,
   "metadata": {},
   "outputs": [],
   "source": [
    "# NOTE this operation flattens class_indexes\n",
    "#class_indexes = tf.reshape(class_indexes, [-1])\n",
    "#class_indexes"
   ]
  },
  {
   "cell_type": "code",
   "execution_count": 64,
   "metadata": {},
   "outputs": [],
   "source": [
    "#color_image = tf.gather(palette, class_indexes)\n",
    "#color_image"
   ]
  },
  {
   "cell_type": "code",
   "execution_count": 65,
   "metadata": {},
   "outputs": [
    {
     "ename": "TypeError",
     "evalue": "Scalar tensor has no `len()`",
     "output_type": "error",
     "traceback": [
      "\u001b[0;31m---------------------------------------------------------------------------\u001b[0m",
      "\u001b[0;31mTypeError\u001b[0m                                 Traceback (most recent call last)",
      "\u001b[0;32m<ipython-input-65-c05179c4db6b>\u001b[0m in \u001b[0;36m<module>\u001b[0;34m\u001b[0m\n\u001b[0;32m----> 1\u001b[0;31m \u001b[0mx\u001b[0m \u001b[0;34m=\u001b[0m \u001b[0mtorch\u001b[0m\u001b[0;34m.\u001b[0m\u001b[0mLongTensor\u001b[0m\u001b[0;34m(\u001b[0m\u001b[0mpalette\u001b[0m\u001b[0;34m)\u001b[0m\u001b[0;34m\u001b[0m\u001b[0m\n\u001b[0m\u001b[1;32m      2\u001b[0m \u001b[0mx\u001b[0m\u001b[0;34m.\u001b[0m\u001b[0mshape\u001b[0m\u001b[0;34m\u001b[0m\u001b[0m\n",
      "\u001b[0;32m/localscratch/vincelf.9007740.0/pyenv36/lib/python3.6/site-packages/tensorflow/python/framework/ops.py\u001b[0m in \u001b[0;36m__len__\u001b[0;34m(self)\u001b[0m\n\u001b[1;32m    912\u001b[0m     \u001b[0;34m\"\"\"Returns the length of the first dimension in the Tensor.\"\"\"\u001b[0m\u001b[0;34m\u001b[0m\u001b[0m\n\u001b[1;32m    913\u001b[0m     \u001b[0;32mif\u001b[0m \u001b[0;32mnot\u001b[0m \u001b[0mself\u001b[0m\u001b[0;34m.\u001b[0m\u001b[0mshape\u001b[0m\u001b[0;34m.\u001b[0m\u001b[0mndims\u001b[0m\u001b[0;34m:\u001b[0m\u001b[0;34m\u001b[0m\u001b[0m\n\u001b[0;32m--> 914\u001b[0;31m       \u001b[0;32mraise\u001b[0m \u001b[0mTypeError\u001b[0m\u001b[0;34m(\u001b[0m\u001b[0;34m\"Scalar tensor has no `len()`\"\u001b[0m\u001b[0;34m)\u001b[0m\u001b[0;34m\u001b[0m\u001b[0m\n\u001b[0m\u001b[1;32m    915\u001b[0m     \u001b[0;31m# pylint: disable=protected-access\u001b[0m\u001b[0;34m\u001b[0m\u001b[0;34m\u001b[0m\u001b[0m\n\u001b[1;32m    916\u001b[0m     \u001b[0;32mtry\u001b[0m\u001b[0;34m:\u001b[0m\u001b[0;34m\u001b[0m\u001b[0m\n",
      "\u001b[0;31mTypeError\u001b[0m: Scalar tensor has no `len()`"
     ]
    }
   ],
   "source": [
    "x = torch.LongTensor(palette)\n",
    "x.shape"
   ]
  },
  {
   "cell_type": "code",
   "execution_count": null,
   "metadata": {},
   "outputs": [],
   "source": [
    "arg = torch.LongTensor(y_pred)\n",
    "arg.shape"
   ]
  },
  {
   "cell_type": "code",
   "execution_count": 56,
   "metadata": {},
   "outputs": [],
   "source": [
    "#converted_tensor = torch.nn.functional.embedding(arg, x)\n",
    "#converted_tensor.shape"
   ]
  },
  {
   "cell_type": "code",
   "execution_count": 49,
   "metadata": {},
   "outputs": [
    {
     "ename": "NameError",
     "evalue": "name 'converted_tensor' is not defined",
     "output_type": "error",
     "traceback": [
      "\u001b[0;31m---------------------------------------------------------------------------\u001b[0m",
      "\u001b[0;31mNameError\u001b[0m                                 Traceback (most recent call last)",
      "\u001b[0;32m<ipython-input-49-8071cf107f39>\u001b[0m in \u001b[0;36m<module>\u001b[0;34m\u001b[0m\n\u001b[0;32m----> 1\u001b[0;31m \u001b[0mconverted_tensor\u001b[0m\u001b[0;34m.\u001b[0m\u001b[0mshape\u001b[0m\u001b[0;34m\u001b[0m\u001b[0m\n\u001b[0m",
      "\u001b[0;31mNameError\u001b[0m: name 'converted_tensor' is not defined"
     ]
    }
   ],
   "source": [
    "converted_tensor.shape"
   ]
  },
  {
   "cell_type": "code",
   "execution_count": null,
   "metadata": {},
   "outputs": [],
   "source": [
    "#to_pil = transforms.ToPILImage()\n",
    "#img = to_pil(converted_tensor[0:-1])\n",
    "#img"
   ]
  },
  {
   "cell_type": "code",
   "execution_count": 50,
   "metadata": {},
   "outputs": [],
   "source": [
    "def metrics_np(y_true, y_pred, metric_name, metric_type='standard', drop_last = True, mean_per_class=False, verbose=False):\n",
    "    \"\"\" \n",
    "    Compute mean metrics of two segmentation masks, via numpy.\n",
    "    \n",
    "    IoU(A,B) = |A & B| / (| A U B|)\n",
    "    Dice(A,B) = 2*|A & B| / (|A| + |B|)\n",
    "    \n",
    "    Args:\n",
    "        y_true: true masks, one-hot encoded.\n",
    "        y_pred: predicted masks, either softmax outputs, or one-hot encoded.\n",
    "        metric_name: metric to be computed, either 'iou' or 'dice'.\n",
    "        metric_type: one of 'standard' (default), 'soft', 'naive'.\n",
    "          In the standard version, y_pred is one-hot encoded and the mean\n",
    "          is taken only over classes that are present (in y_true or y_pred).\n",
    "          The 'soft' version of the metrics are computed without one-hot \n",
    "          encoding y_pred.\n",
    "          The 'naive' version return mean metrics where absent classes contribute\n",
    "          to the class mean as 1.0 (instead of being dropped from the mean).\n",
    "        drop_last = True: boolean flag to drop last class (usually reserved\n",
    "          for background class in semantic segmentation)\n",
    "        mean_per_class = False: return mean along batch axis for each class.\n",
    "        verbose = False: print intermediate results such as intersection, union\n",
    "          (as number of pixels).\n",
    "    Returns:\n",
    "        IoU/Dice of y_true and y_pred, as a float, unless mean_per_class == True\n",
    "          in which case it returns the per-class metric, averaged over the batch.\n",
    "    \n",
    "    Inputs are B*W*H*N tensors, with\n",
    "        B = batch size,\n",
    "        W = width,\n",
    "        H = height,\n",
    "        N = number of classes\n",
    "    \"\"\"\n",
    "    \n",
    "    assert y_true.shape == y_pred.shape, 'Input masks should be same shape, instead are {}, {}'.format(y_true.shape, y_pred.shape)\n",
    "    assert len(y_pred.shape) == 4, 'Inputs should be B*W*H*N tensors, instead have shape {}'.format(y_pred.shape)\n",
    "    \n",
    "    flag_soft = (metric_type == 'soft')\n",
    "    flag_naive_mean = (metric_type == 'naive')\n",
    "    \n",
    "    num_classes = y_pred.shape[-1]\n",
    "    # if only 1 class, there is no background class and it should never be dropped\n",
    "    drop_last = drop_last and num_classes>1\n",
    "    \n",
    "    if not flag_soft:\n",
    "        if num_classes>1:\n",
    "            # get one-hot encoded masks from y_pred (true masks should already be in correct format, do it anyway)\n",
    "            y_pred = np.array([ np.argmax(y_pred, axis=-1)==i for i in range(num_classes) ]).transpose(1,2,3,0)\n",
    "            y_true = np.array([ np.argmax(y_true, axis=-1)==i for i in range(num_classes) ]).transpose(1,2,3,0)\n",
    "        else:\n",
    "            y_pred = (y_pred > 0).astype(int)\n",
    "            y_true = (y_true > 0).astype(int)\n",
    "    \n",
    "    # intersection and union shapes are batch_size * n_classes (values = area in pixels)\n",
    "    axes = (1,2) # W,H axes of each image\n",
    "    intersection = np.sum(np.abs(y_pred * y_true), axis=axes) # or, np.logical_and(y_pred, y_true) for one-hot\n",
    "    mask_sum = np.sum(np.abs(y_true), axis=axes) + np.sum(np.abs(y_pred), axis=axes)\n",
    "    union = mask_sum  - intersection # or, np.logical_or(y_pred, y_true) for one-hot\n",
    "    \n",
    "    if verbose:\n",
    "        print('intersection (pred*true), intersection (pred&true), union (pred+true-inters), union (pred|true)')\n",
    "        print(intersection, np.sum(np.logical_and(y_pred, y_true), axis=axes), union, np.sum(np.logical_or(y_pred, y_true), axis=axes))\n",
    "    \n",
    "    smooth = .001\n",
    "    iou = (intersection + smooth) / (union + smooth)\n",
    "    dice = 2*(intersection + smooth)/(mask_sum + smooth)\n",
    "    \n",
    "    metric = {'iou': iou, 'dice': dice}[metric_name]\n",
    "    \n",
    "    # define mask to be 0 when no pixels are present in either y_true or y_pred, 1 otherwise\n",
    "    mask =  np.not_equal(union, 0).astype(int)\n",
    "    # mask = 1 - np.equal(union, 0).astype(int) # True = 1\n",
    "    \n",
    "    if drop_last:\n",
    "        metric = metric[:,:-1]\n",
    "        mask = mask[:,:-1]\n",
    "    \n",
    "    # return mean metrics: remaining axes are (batch, classes)\n",
    "    # if mean_per_class, average over batch axis only\n",
    "    # if flag_naive_mean, average over absent classes too\n",
    "    if mean_per_class:\n",
    "        if flag_naive_mean:\n",
    "            return np.mean(metric, axis=0)\n",
    "        else:\n",
    "            # mean only over non-absent classes in batch (still return 1 if class absent for whole batch)\n",
    "            return (np.sum(metric * mask, axis=0) + smooth)/(np.sum(mask, axis=0) + smooth)\n",
    "    else:\n",
    "        if flag_naive_mean:\n",
    "            return np.mean(metric)\n",
    "        else:\n",
    "            # mean only over non-absent classes\n",
    "            class_count = np.sum(mask, axis=0)\n",
    "            return np.mean(np.sum(metric * mask, axis=0)[class_count!=0]/(class_count[class_count!=0]))\n",
    "        \n",
    "def mean_iou_np(y_true, y_pred, **kwargs):\n",
    "    \"\"\"\n",
    "    Compute mean Intersection over Union of two segmentation masks, via numpy.\n",
    "    \n",
    "    Calls metrics_np(y_true, y_pred, metric_name='iou'), see there for allowed kwargs.\n",
    "    \"\"\"\n",
    "    return metrics_np(y_true, y_pred, metric_name='iou', **kwargs)\n",
    "\n",
    "def mean_dice_np(y_true, y_pred, **kwargs):\n",
    "    \"\"\"\n",
    "    Compute mean Dice coefficient of two segmentation masks, via numpy.\n",
    "    \n",
    "    Calls metrics_np(y_true, y_pred, metric_name='dice'), see there for allowed kwargs.\n",
    "    \"\"\"\n",
    "    return metrics_np(y_true, y_pred, metric_name='dice', **kwargs)\n",
    "  \n",
    "  \n",
    "  "
   ]
  },
  {
   "cell_type": "code",
   "execution_count": 51,
   "metadata": {},
   "outputs": [
    {
     "name": "stdout",
     "output_type": "stream",
     "text": [
      "intersection (pred*true), intersection (pred&true), union (pred+true-inters), union (pred|true)\n",
      "[[30744     0 39387  8658 63297]] [[30744     0 39387  8658 63297]] [[ 85099   4608  56894 268023 288354]] [[ 85099   4608  56894 268023 288354]]\n"
     ]
    },
    {
     "data": {
      "text/plain": [
       "array([0.36191144, 0.00099922, 0.69259482, 0.03326993, 0.22029115])"
      ]
     },
     "execution_count": 51,
     "metadata": {},
     "output_type": "execute_result"
    }
   ],
   "source": [
    "metrics_np(y_true, y_pred, metric_name='iou', metric_type='standard', drop_last = False, mean_per_class=True, verbose=True)"
   ]
  },
  {
   "cell_type": "code",
   "execution_count": 52,
   "metadata": {},
   "outputs": [
    {
     "name": "stdout",
     "output_type": "stream",
     "text": [
      "intersection (pred*true), intersection (pred&true), union (pred+true-inters), union (pred|true)\n",
      "[[30744     0 39387  8658 63297]] [[30744     0 39387  8658 63297]] [[ 85099   4608  56894 268023 288354]] [[ 85099   4608  56894 268023 288354]]\n"
     ]
    },
    {
     "data": {
      "text/plain": [
       "array([0.53125612, 0.00099943, 0.81834932, 0.0635212 , 0.36063834])"
      ]
     },
     "execution_count": 52,
     "metadata": {},
     "output_type": "execute_result"
    }
   ],
   "source": [
    "metrics_np(y_true, y_pred, metric_name='dice', metric_type='standard', drop_last = False, mean_per_class=True, verbose=True)"
   ]
  },
  {
   "cell_type": "code",
   "execution_count": 53,
   "metadata": {},
   "outputs": [
    {
     "data": {
      "text/plain": [
       "<tf.Tensor: shape=(), dtype=float32, numpy=422532.0>"
      ]
     },
     "execution_count": 53,
     "metadata": {},
     "output_type": "execute_result"
    }
   ],
   "source": [
    "magic_number = tf.reduce_sum(semantic_map)\n",
    "magic_number"
   ]
  },
  {
   "cell_type": "code",
   "execution_count": 54,
   "metadata": {},
   "outputs": [
    {
     "ename": "InvalidArgumentError",
     "evalue": "Input to reshape is a tensor with 1267596 values, but the requested shape has 1252524 [Op:Reshape]",
     "output_type": "error",
     "traceback": [
      "\u001b[0;31m---------------------------------------------------------------------------\u001b[0m",
      "\u001b[0;31m_FallbackException\u001b[0m                        Traceback (most recent call last)",
      "\u001b[0;32m/localscratch/vincelf.9007740.0/pyenv36/lib/python3.6/site-packages/tensorflow/python/ops/gen_array_ops.py\u001b[0m in \u001b[0;36mreshape\u001b[0;34m(tensor, shape, name)\u001b[0m\n\u001b[1;32m   8074\u001b[0m         \u001b[0m_ctx\u001b[0m\u001b[0;34m.\u001b[0m\u001b[0m_context_handle\u001b[0m\u001b[0;34m,\u001b[0m \u001b[0mtld\u001b[0m\u001b[0;34m.\u001b[0m\u001b[0mdevice_name\u001b[0m\u001b[0;34m,\u001b[0m \u001b[0;34m\"Reshape\"\u001b[0m\u001b[0;34m,\u001b[0m \u001b[0mname\u001b[0m\u001b[0;34m,\u001b[0m\u001b[0;34m\u001b[0m\u001b[0m\n\u001b[0;32m-> 8075\u001b[0;31m         tld.op_callbacks, tensor, shape)\n\u001b[0m\u001b[1;32m   8076\u001b[0m       \u001b[0;32mreturn\u001b[0m \u001b[0m_result\u001b[0m\u001b[0;34m\u001b[0m\u001b[0m\n",
      "\u001b[0;31m_FallbackException\u001b[0m: This function does not handle the case of the path where all inputs are not already EagerTensors.",
      "\nDuring handling of the above exception, another exception occurred:\n",
      "\u001b[0;31mInvalidArgumentError\u001b[0m                      Traceback (most recent call last)",
      "\u001b[0;32m<ipython-input-54-4604202c9cec>\u001b[0m in \u001b[0;36m<module>\u001b[0;34m\u001b[0m\n\u001b[1;32m      4\u001b[0m \u001b[0mclass_indexes\u001b[0m \u001b[0;34m=\u001b[0m \u001b[0mtf\u001b[0m\u001b[0;34m.\u001b[0m\u001b[0mreshape\u001b[0m\u001b[0;34m(\u001b[0m\u001b[0mclass_indexes\u001b[0m\u001b[0;34m,\u001b[0m \u001b[0;34m[\u001b[0m\u001b[0;34m-\u001b[0m\u001b[0;36m1\u001b[0m\u001b[0;34m]\u001b[0m\u001b[0;34m)\u001b[0m\u001b[0;34m\u001b[0m\u001b[0m\n\u001b[1;32m      5\u001b[0m \u001b[0mcolor_image\u001b[0m \u001b[0;34m=\u001b[0m \u001b[0mtf\u001b[0m\u001b[0;34m.\u001b[0m\u001b[0mgather\u001b[0m\u001b[0;34m(\u001b[0m\u001b[0mpalette\u001b[0m\u001b[0;34m,\u001b[0m \u001b[0mclass_indexes\u001b[0m\u001b[0;34m)\u001b[0m\u001b[0;34m\u001b[0m\u001b[0m\n\u001b[0;32m----> 6\u001b[0;31m \u001b[0mcolor_image\u001b[0m \u001b[0;34m=\u001b[0m \u001b[0mtf\u001b[0m\u001b[0;34m.\u001b[0m\u001b[0mreshape\u001b[0m\u001b[0;34m(\u001b[0m\u001b[0mcolor_image\u001b[0m\u001b[0;34m,\u001b[0m \u001b[0;34m[\u001b[0m\u001b[0;36m481\u001b[0m\u001b[0;34m,\u001b[0m \u001b[0;36m868\u001b[0m\u001b[0;34m,\u001b[0m \u001b[0;36m3\u001b[0m\u001b[0;34m]\u001b[0m\u001b[0;34m)\u001b[0m\u001b[0;34m\u001b[0m\u001b[0m\n\u001b[0m\u001b[1;32m      7\u001b[0m \u001b[0mcolor_image\u001b[0m\u001b[0;34m\u001b[0m\u001b[0m\n",
      "\u001b[0;32m/localscratch/vincelf.9007740.0/pyenv36/lib/python3.6/site-packages/tensorflow/python/ops/array_ops.py\u001b[0m in \u001b[0;36mreshape\u001b[0;34m(tensor, shape, name)\u001b[0m\n\u001b[1;32m    191\u001b[0m     \u001b[0mA\u001b[0m\u001b[0;31m \u001b[0m\u001b[0;31m`\u001b[0m\u001b[0mTensor\u001b[0m\u001b[0;31m`\u001b[0m\u001b[0;34m.\u001b[0m \u001b[0mHas\u001b[0m \u001b[0mthe\u001b[0m \u001b[0msame\u001b[0m \u001b[0mtype\u001b[0m \u001b[0;32mas\u001b[0m\u001b[0;31m \u001b[0m\u001b[0;31m`\u001b[0m\u001b[0mtensor\u001b[0m\u001b[0;31m`\u001b[0m\u001b[0;34m.\u001b[0m\u001b[0;34m\u001b[0m\u001b[0m\n\u001b[1;32m    192\u001b[0m   \"\"\"\n\u001b[0;32m--> 193\u001b[0;31m   \u001b[0mresult\u001b[0m \u001b[0;34m=\u001b[0m \u001b[0mgen_array_ops\u001b[0m\u001b[0;34m.\u001b[0m\u001b[0mreshape\u001b[0m\u001b[0;34m(\u001b[0m\u001b[0mtensor\u001b[0m\u001b[0;34m,\u001b[0m \u001b[0mshape\u001b[0m\u001b[0;34m,\u001b[0m \u001b[0mname\u001b[0m\u001b[0;34m)\u001b[0m\u001b[0;34m\u001b[0m\u001b[0m\n\u001b[0m\u001b[1;32m    194\u001b[0m   \u001b[0mtensor_util\u001b[0m\u001b[0;34m.\u001b[0m\u001b[0mmaybe_set_static_shape\u001b[0m\u001b[0;34m(\u001b[0m\u001b[0mresult\u001b[0m\u001b[0;34m,\u001b[0m \u001b[0mshape\u001b[0m\u001b[0;34m)\u001b[0m\u001b[0;34m\u001b[0m\u001b[0m\n\u001b[1;32m    195\u001b[0m   \u001b[0;32mreturn\u001b[0m \u001b[0mresult\u001b[0m\u001b[0;34m\u001b[0m\u001b[0m\n",
      "\u001b[0;32m/localscratch/vincelf.9007740.0/pyenv36/lib/python3.6/site-packages/tensorflow/python/ops/gen_array_ops.py\u001b[0m in \u001b[0;36mreshape\u001b[0;34m(tensor, shape, name)\u001b[0m\n\u001b[1;32m   8078\u001b[0m       \u001b[0;32mtry\u001b[0m\u001b[0;34m:\u001b[0m\u001b[0;34m\u001b[0m\u001b[0m\n\u001b[1;32m   8079\u001b[0m         return reshape_eager_fallback(\n\u001b[0;32m-> 8080\u001b[0;31m             tensor, shape, name=name, ctx=_ctx)\n\u001b[0m\u001b[1;32m   8081\u001b[0m       \u001b[0;32mexcept\u001b[0m \u001b[0m_core\u001b[0m\u001b[0;34m.\u001b[0m\u001b[0m_SymbolicException\u001b[0m\u001b[0;34m:\u001b[0m\u001b[0;34m\u001b[0m\u001b[0m\n\u001b[1;32m   8082\u001b[0m         \u001b[0;32mpass\u001b[0m  \u001b[0;31m# Add nodes to the TensorFlow graph.\u001b[0m\u001b[0;34m\u001b[0m\u001b[0m\n",
      "\u001b[0;32m/localscratch/vincelf.9007740.0/pyenv36/lib/python3.6/site-packages/tensorflow/python/ops/gen_array_ops.py\u001b[0m in \u001b[0;36mreshape_eager_fallback\u001b[0;34m(tensor, shape, name, ctx)\u001b[0m\n\u001b[1;32m   8105\u001b[0m   \u001b[0m_attrs\u001b[0m \u001b[0;34m=\u001b[0m \u001b[0;34m(\u001b[0m\u001b[0;34m\"T\"\u001b[0m\u001b[0;34m,\u001b[0m \u001b[0m_attr_T\u001b[0m\u001b[0;34m,\u001b[0m \u001b[0;34m\"Tshape\"\u001b[0m\u001b[0;34m,\u001b[0m \u001b[0m_attr_Tshape\u001b[0m\u001b[0;34m)\u001b[0m\u001b[0;34m\u001b[0m\u001b[0m\n\u001b[1;32m   8106\u001b[0m   _result = _execute.execute(b\"Reshape\", 1, inputs=_inputs_flat, attrs=_attrs,\n\u001b[0;32m-> 8107\u001b[0;31m                              ctx=ctx, name=name)\n\u001b[0m\u001b[1;32m   8108\u001b[0m   \u001b[0;32mif\u001b[0m \u001b[0m_execute\u001b[0m\u001b[0;34m.\u001b[0m\u001b[0mmust_record_gradient\u001b[0m\u001b[0;34m(\u001b[0m\u001b[0;34m)\u001b[0m\u001b[0;34m:\u001b[0m\u001b[0;34m\u001b[0m\u001b[0m\n\u001b[1;32m   8109\u001b[0m     _execute.record_gradient(\n",
      "\u001b[0;32m/localscratch/vincelf.9007740.0/pyenv36/lib/python3.6/site-packages/tensorflow/python/eager/execute.py\u001b[0m in \u001b[0;36mquick_execute\u001b[0;34m(op_name, num_outputs, inputs, attrs, ctx, name)\u001b[0m\n\u001b[1;32m     58\u001b[0m     \u001b[0mctx\u001b[0m\u001b[0;34m.\u001b[0m\u001b[0mensure_initialized\u001b[0m\u001b[0;34m(\u001b[0m\u001b[0;34m)\u001b[0m\u001b[0;34m\u001b[0m\u001b[0m\n\u001b[1;32m     59\u001b[0m     tensors = pywrap_tfe.TFE_Py_Execute(ctx._handle, device_name, op_name,\n\u001b[0;32m---> 60\u001b[0;31m                                         inputs, attrs, num_outputs)\n\u001b[0m\u001b[1;32m     61\u001b[0m   \u001b[0;32mexcept\u001b[0m \u001b[0mcore\u001b[0m\u001b[0;34m.\u001b[0m\u001b[0m_NotOkStatusException\u001b[0m \u001b[0;32mas\u001b[0m \u001b[0me\u001b[0m\u001b[0;34m:\u001b[0m\u001b[0;34m\u001b[0m\u001b[0m\n\u001b[1;32m     62\u001b[0m     \u001b[0;32mif\u001b[0m \u001b[0mname\u001b[0m \u001b[0;32mis\u001b[0m \u001b[0;32mnot\u001b[0m \u001b[0;32mNone\u001b[0m\u001b[0;34m:\u001b[0m\u001b[0;34m\u001b[0m\u001b[0m\n",
      "\u001b[0;31mInvalidArgumentError\u001b[0m: Input to reshape is a tensor with 1267596 values, but the requested shape has 1252524 [Op:Reshape]"
     ]
    }
   ],
   "source": [
    "palette = tf.constant(palette, dtype=tf.uint8)\n",
    "class_indexes = tf.argmax(semantic_map, axis=-1)\n",
    "# NOTE this operation flattens class_indexes\n",
    "class_indexes = tf.reshape(class_indexes, [-1])\n",
    "color_image = tf.gather(palette, class_indexes)\n",
    "color_image = tf.reshape(color_image, [481, 868, 3])\n",
    "color_image"
   ]
  },
  {
   "cell_type": "code",
   "execution_count": 105,
   "metadata": {},
   "outputs": [
    {
     "data": {
      "text/plain": [
       "TensorShape([3, 481, 868])"
      ]
     },
     "execution_count": 105,
     "metadata": {},
     "output_type": "execute_result"
    }
   ],
   "source": [
    "#color_image_2 = tf.transpose(color_image, perm=[2, 0, 1]).numpy()\n",
    "#color_image_2.shape"
   ]
  },
  {
   "cell_type": "code",
   "execution_count": 108,
   "metadata": {},
   "outputs": [
    {
     "data": {
      "image/png": "[encoded data removed]",
      "text/plain": [
       "<PIL.Image.Image image mode=RGB size=868x481 at 0x2B5D3B884710>"
      ]
     },
     "execution_count": 108,
     "metadata": {},
     "output_type": "execute_result"
    }
   ],
   "source": [
    "# tf.image.encode_png(color_image)\n",
    "to_pil = transforms.ToPILImage()\n",
    "img3 = to_pil(color_image.numpy()).convert('RGB')\n",
    "img3"
   ]
  },
  {
   "cell_type": "code",
   "execution_count": 111,
   "metadata": {},
   "outputs": [
    {
     "data": {
      "image/png": "[encoded data removed]",
      "text/plain": [
       "<PIL.JpegImagePlugin.JpegImageFile image mode=RGB size=868x481 at 0x2B5D34DACE80>"
      ]
     },
     "execution_count": 111,
     "metadata": {},
     "output_type": "execute_result"
    }
   ],
   "source": [
    "color_pred_img"
   ]
  },
  {
   "cell_type": "code",
   "execution_count": 112,
   "metadata": {},
   "outputs": [
    {
     "data": {
      "text/plain": [
       "False"
      ]
     },
     "execution_count": 112,
     "metadata": {},
     "output_type": "execute_result"
    }
   ],
   "source": [
    "color_pred_img == img3"
   ]
  },
  {
   "cell_type": "code",
   "execution_count": 140,
   "metadata": {},
   "outputs": [
    {
     "data": {
      "text/plain": [
       "<tf.Tensor: shape=(481, 868, 3), dtype=bool, numpy=\n",
       "array([[[ True,  True,  True],\n",
       "        [ True,  True,  True],\n",
       "        [ True,  True,  True],\n",
       "        ...,\n",
       "        [ True,  True,  True],\n",
       "        [ True,  True,  True],\n",
       "        [ True,  True,  True]],\n",
       "\n",
       "       [[ True,  True,  True],\n",
       "        [ True,  True,  True],\n",
       "        [ True,  True,  True],\n",
       "        ...,\n",
       "        [ True,  True,  True],\n",
       "        [ True,  True,  True],\n",
       "        [ True,  True,  True]],\n",
       "\n",
       "       [[ True,  True,  True],\n",
       "        [ True,  True,  True],\n",
       "        [ True,  True,  True],\n",
       "        ...,\n",
       "        [ True,  True,  True],\n",
       "        [ True,  True,  True],\n",
       "        [ True,  True,  True]],\n",
       "\n",
       "       ...,\n",
       "\n",
       "       [[ True,  True,  True],\n",
       "        [ True,  True,  True],\n",
       "        [ True,  True,  True],\n",
       "        ...,\n",
       "        [ True,  True,  True],\n",
       "        [ True,  True,  True],\n",
       "        [ True,  True,  True]],\n",
       "\n",
       "       [[ True,  True,  True],\n",
       "        [ True,  True,  True],\n",
       "        [ True,  True,  True],\n",
       "        ...,\n",
       "        [ True,  True,  True],\n",
       "        [ True,  True,  True],\n",
       "        [ True,  True,  True]],\n",
       "\n",
       "       [[ True,  True,  True],\n",
       "        [ True,  True,  True],\n",
       "        [ True,  True,  True],\n",
       "        ...,\n",
       "        [ True,  True,  True],\n",
       "        [ True,  True,  True],\n",
       "        [ True,  True,  True]]])>"
      ]
     },
     "execution_count": 140,
     "metadata": {},
     "output_type": "execute_result"
    }
   ],
   "source": [
    "diff = tf.math.equal(pred_data, color_image)\n",
    "diff"
   ]
  },
  {
   "cell_type": "code",
   "execution_count": 141,
   "metadata": {},
   "outputs": [],
   "source": [
    "# tf.boolean_mask(diff, np.array([[[False]]]))\n",
    "# tf.where([False], diff)"
   ]
  },
  {
   "cell_type": "markdown",
   "metadata": {},
   "source": [
    "Compare the image\n",
    "\n",
    "Reference : <https://www.pyimagesearch.com/2017/06/19/image-difference-with-opencv-and-python/>\n",
    "\n",
    "A SSIM of 1 is a perfect match."
   ]
  },
  {
   "cell_type": "code",
   "execution_count": 130,
   "metadata": {},
   "outputs": [
    {
     "name": "stdout",
     "output_type": "stream",
     "text": [
      "\u001b[33mIgnoring pip: markers 'python_version < \"3\"' don't match your environment\u001b[0m\n",
      "Collecting opencv-python\n",
      "Requirement already satisfied: numpy>=1.11.3 in /localscratch/vincelf.9007740.0/pyenv36/lib/python3.6/site-packages (from opencv-python)\n",
      "Installing collected packages: opencv-python\n",
      "Successfully installed opencv-python-3.4.4.19\n"
     ]
    }
   ],
   "source": [
    "!pip3 install --no-index opencv-python"
   ]
  },
  {
   "cell_type": "code",
   "execution_count": 131,
   "metadata": {},
   "outputs": [],
   "source": [
    "from skimage.measure import compare_ssim\n",
    "import cv2"
   ]
  },
  {
   "cell_type": "code",
   "execution_count": 136,
   "metadata": {},
   "outputs": [],
   "source": [
    "# load the two input images\n",
    "#imageA = cv2.imread(im2)\n",
    "#imageB = cv2.imread(im3)"
   ]
  },
  {
   "cell_type": "code",
   "execution_count": 137,
   "metadata": {},
   "outputs": [],
   "source": [
    "# convert the images to grayscale\n",
    "grayA = cv2.cvtColor(pred_data, cv2.COLOR_BGR2GRAY)\n",
    "grayB = cv2.cvtColor(color_image.numpy(), cv2.COLOR_BGR2GRAY)"
   ]
  },
  {
   "cell_type": "code",
   "execution_count": 138,
   "metadata": {},
   "outputs": [
    {
     "name": "stdout",
     "output_type": "stream",
     "text": [
      "SSIM: 1.0\n"
     ]
    }
   ],
   "source": [
    "(score, diff) = compare_ssim(grayA, grayB, full=True)\n",
    "diff = (diff * 255).astype(\"uint8\")\n",
    "print(\"SSIM: {}\".format(score))"
   ]
  },
  {
   "cell_type": "code",
   "execution_count": null,
   "metadata": {},
   "outputs": [],
   "source": []
  }
 ],
 "metadata": {
  "kernelspec": {
   "display_name": "Python 3",
   "language": "python",
   "name": "python3"
  },
  "language_info": {
   "codemirror_mode": {
    "name": "ipython",
    "version": 3
   },
   "file_extension": ".py",
   "mimetype": "text/x-python",
   "name": "python",
   "nbconvert_exporter": "python",
   "pygments_lexer": "ipython3",
   "version": "3.6.3"
  }
 },
 "nbformat": 4,
 "nbformat_minor": 4
}
