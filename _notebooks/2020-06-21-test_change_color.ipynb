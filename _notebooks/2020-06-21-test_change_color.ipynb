{
 "cells": [
  {
   "cell_type": "markdown",
   "metadata": {},
   "source": [
    "# Test script to replace color in an image"
   ]
  },
  {
   "cell_type": "markdown",
   "metadata": {},
   "source": [
    "Reference : \n",
    "* <https://machinelearningmastery.com/how-to-one-hot-encode-sequence-data-in-python/>\n",
    "* <https://stackoverflow.com/questions/46903885/map-rgb-semantic-maps-to-one-hot-encodings-and-vice-versa-in-tensorflow>\n",
    "* <https://datascience.stackexchange.com/questions/48338/why-are-my-predictions-broken-when-performing-image-segmentation-with-tensorflow>\n",
    "* <https://stackoverflow.com/questions/60761711/how-to-convert-multi-class-one-hot-tensor-to-rgb-in-tensorflow>\n",
    "* <https://machinelearningmastery.com/how-to-one-hot-encode-sequence-data-in-python/>"
   ]
  },
  {
   "cell_type": "markdown",
   "metadata": {},
   "source": [
    "Import necessary library"
   ]
  },
  {
   "cell_type": "code",
   "execution_count": 170,
   "metadata": {},
   "outputs": [],
   "source": [
    "from PIL import Image\n",
    "import numpy as np\n",
    "import os\n",
    "from skimage import io\n",
    "import math\n",
    "import torch\n",
    "import tensorflow as tf\n",
    "import scipy.misc"
   ]
  },
  {
   "cell_type": "markdown",
   "metadata": {},
   "source": [
    "Load ground truth image and check the shape and the uniq colors"
   ]
  },
  {
   "cell_type": "code",
   "execution_count": 171,
   "metadata": {},
   "outputs": [
    {
     "data": {
      "image/png": "[encoded data removed]",
      "text/plain": [
       "<PIL.PngImagePlugin.PngImageFile image mode=RGB size=868x481 at 0x2ACB36286B38>"
      ]
     },
     "execution_count": 171,
     "metadata": {},
     "output_type": "execute_result"
    }
   ],
   "source": [
    "home_gt='/home/vincelf/downloads/freiburg_forest_annotated/test/GT_color'\n",
    "gt_color='b1-09517_Clipped.png'\n",
    "gt_color_f = os.path.join(home_gt, gt_color)\n",
    "#gt_color_img = io.imread(gt_color_f)\n",
    "#gt_color_img.shape\n",
    "#(481, 868, 3)\n",
    "gt_color_img = Image.open(gt_color_f)\n",
    "gt_color_img"
   ]
  },
  {
   "cell_type": "code",
   "execution_count": 172,
   "metadata": {},
   "outputs": [
    {
     "data": {
      "text/plain": [
       "(481, 868, 3)"
      ]
     },
     "execution_count": 172,
     "metadata": {},
     "output_type": "execute_result"
    }
   ],
   "source": [
    "gt_color_img_rgb = gt_color_img.convert('RGB')\n",
    "gt_data = np.array(gt_color_img_rgb)   # \"data\" is a height x width x 4 numpy array\n",
    "gt_data.shape"
   ]
  },
  {
   "cell_type": "code",
   "execution_count": 173,
   "metadata": {},
   "outputs": [
    {
     "data": {
      "text/plain": [
       "{(0, 120, 255), (0, 255, 0), (102, 102, 51), (170, 170, 170)}"
      ]
     },
     "execution_count": 173,
     "metadata": {},
     "output_type": "execute_result"
    }
   ],
   "source": [
    "gt_color_ref = set( tuple(v) for m2d in gt_data for v in m2d )\n",
    "gt_color_ref"
   ]
  },
  {
   "cell_type": "markdown",
   "metadata": {},
   "source": [
    "Load predicted image and check the shape and the uniq colors"
   ]
  },
  {
   "cell_type": "code",
   "execution_count": 174,
   "metadata": {},
   "outputs": [
    {
     "data": {
      "image/png": "[encoded data removed]",
      "text/plain": [
       "<PIL.JpegImagePlugin.JpegImageFile image mode=RGB size=868x481 at 0x2ACB36286EF0>"
      ]
     },
     "execution_count": 174,
     "metadata": {},
     "output_type": "execute_result"
    }
   ],
   "source": [
    "home_pred='/home/vincelf/upload'\n",
    "color_pred='b1-09517_Clipped_pred_new_color.jpg'\n",
    "color_pred_f = os.path.join(home_pred, color_pred)\n",
    "color_pred_img_io_imread = io.imread(color_pred_f)\n",
    "color_pred_img = Image.open(color_pred_f)\n",
    "color_pred_img"
   ]
  },
  {
   "cell_type": "code",
   "execution_count": 175,
   "metadata": {},
   "outputs": [
    {
     "data": {
      "text/plain": [
       "(481, 868, 3)"
      ]
     },
     "execution_count": 175,
     "metadata": {},
     "output_type": "execute_result"
    }
   ],
   "source": [
    "color_pred_img_rgb = color_pred_img.convert('RGB')\n",
    "pred_data = np.array(color_pred_img_rgb)   # \"data\" is a height x width x 4 numpy array\n",
    "pred_data.shape"
   ]
  },
  {
   "cell_type": "markdown",
   "metadata": {},
   "source": [
    "check the uniq colors"
   ]
  },
  {
   "cell_type": "code",
   "execution_count": 176,
   "metadata": {},
   "outputs": [
    {
     "data": {
      "text/plain": [
       "{(0, 118, 254),\n",
       " (0, 119, 255),\n",
       " (0, 120, 253),\n",
       " (0, 120, 255),\n",
       " (0, 121, 254),\n",
       " (0, 121, 255),\n",
       " (0, 254, 0),\n",
       " (0, 255, 0),\n",
       " (0, 255, 1),\n",
       " (1, 119, 255),\n",
       " (1, 255, 0),\n",
       " (1, 255, 1),\n",
       " (2, 120, 254),\n",
       " (2, 120, 255),\n",
       " (100, 102, 52),\n",
       " (100, 103, 50),\n",
       " (101, 101, 49),\n",
       " (101, 101, 51),\n",
       " (101, 103, 53),\n",
       " (101, 104, 51),\n",
       " (102, 100, 51),\n",
       " (102, 101, 53),\n",
       " (102, 102, 48),\n",
       " (102, 102, 50),\n",
       " (102, 102, 52),\n",
       " (103, 101, 50),\n",
       " (103, 101, 52),\n",
       " (103, 101, 53),\n",
       " (103, 103, 51),\n",
       " (103, 103, 53),\n",
       " (104, 102, 51),\n",
       " (104, 102, 53),\n",
       " (169, 169, 169),\n",
       " (169, 171, 168),\n",
       " (169, 171, 170),\n",
       " (170, 170, 168),\n",
       " (170, 170, 170),\n",
       " (170, 170, 172),\n",
       " (170, 172, 171),\n",
       " (171, 169, 170),\n",
       " (171, 169, 172),\n",
       " (171, 171, 169),\n",
       " (171, 171, 171),\n",
       " (171, 171, 173),\n",
       " (172, 170, 171),\n",
       " (172, 171, 169)}"
      ]
     },
     "execution_count": 176,
     "metadata": {},
     "output_type": "execute_result"
    }
   ],
   "source": [
    "color_set = set( tuple(v) for m2d in pred_data for v in m2d )\n",
    "color_set"
   ]
  },
  {
   "cell_type": "code",
   "execution_count": 177,
   "metadata": {},
   "outputs": [
    {
     "name": "stdout",
     "output_type": "stream",
     "text": [
      "[(102, 102, 51)]\n",
      "(101, 101, 49) 101.0 0.0 101.0 102.0 (102, 102, 51)\n",
      "[(0, 255, 0), (0, 120, 255)]\n",
      "(0, 255, 1) 0.0 0.0 255.0 120.0 (0, 255, 0)\n",
      "[(170, 170, 170)]\n",
      "(171, 169, 170) 171.0 0.0 169.0 170.0 (170, 170, 170)\n",
      "[(102, 102, 51)]\n",
      "(104, 102, 51) 104.0 0.0 102.0 102.0 (102, 102, 51)\n",
      "[(102, 102, 51)]\n",
      "(101, 101, 51) 101.0 0.0 101.0 102.0 (102, 102, 51)\n",
      "[(0, 255, 0), (0, 120, 255)]\n",
      "(0, 120, 255) 0.0 0.0 120.0 120.0 (0, 120, 255)\n",
      "[(170, 170, 170)]\n",
      "(169, 169, 169) 169.0 0.0 169.0 170.0 (170, 170, 170)\n",
      "[(170, 170, 170)]\n",
      "(170, 170, 170) 170.0 0.0 170.0 170.0 (170, 170, 170)\n",
      "[(170, 170, 170)]\n",
      "(172, 171, 169) 172.0 0.0 171.0 170.0 (170, 170, 170)\n",
      "[(0, 255, 0), (0, 120, 255)]\n",
      "(0, 120, 253) 0.0 0.0 120.0 120.0 (0, 120, 255)\n",
      "[(102, 102, 51)]\n",
      "(100, 103, 50) 100.0 0.0 103.0 102.0 (102, 102, 51)\n",
      "[(102, 102, 51)]\n",
      "(102, 100, 51) 102.0 0.0 100.0 102.0 (102, 102, 51)\n",
      "[(170, 170, 170)]\n",
      "(170, 170, 168) 170.0 0.0 170.0 170.0 (170, 170, 170)\n",
      "[(0, 255, 0), (0, 120, 255)]\n",
      "(2, 120, 255) 2.0 0.0 120.0 120.0 (0, 120, 255)\n",
      "[(170, 170, 170)]\n",
      "(169, 171, 170) 169.0 0.0 171.0 170.0 (170, 170, 170)\n",
      "[(0, 255, 0), (0, 120, 255)]\n",
      "(2, 120, 254) 2.0 0.0 120.0 120.0 (0, 120, 255)\n",
      "[(170, 170, 170)]\n",
      "(172, 170, 171) 172.0 0.0 170.0 170.0 (170, 170, 170)\n",
      "[(170, 170, 170)]\n",
      "(169, 171, 168) 169.0 0.0 171.0 170.0 (170, 170, 170)\n",
      "[(102, 102, 51)]\n",
      "(101, 104, 51) 101.0 0.0 104.0 102.0 (102, 102, 51)\n",
      "[(0, 255, 0), (0, 120, 255)]\n",
      "(1, 255, 1) 1.0 0.0 255.0 120.0 (0, 255, 0)\n",
      "[(102, 102, 51)]\n",
      "(102, 102, 50) 102.0 0.0 102.0 102.0 (102, 102, 51)\n",
      "[(170, 170, 170)]\n",
      "(170, 170, 172) 170.0 0.0 170.0 170.0 (170, 170, 170)\n",
      "[(0, 255, 0), (0, 120, 255)]\n",
      "(1, 255, 0) 1.0 0.0 255.0 120.0 (0, 255, 0)\n",
      "[(102, 102, 51)]\n",
      "(103, 103, 51) 103.0 0.0 103.0 102.0 (102, 102, 51)\n",
      "[(0, 255, 0), (0, 120, 255)]\n",
      "(0, 119, 255) 0.0 0.0 119.0 120.0 (0, 120, 255)\n",
      "[(170, 170, 170)]\n",
      "(171, 171, 169) 171.0 0.0 171.0 170.0 (170, 170, 170)\n",
      "[(102, 102, 51)]\n",
      "(102, 102, 48) 102.0 0.0 102.0 102.0 (102, 102, 51)\n",
      "[(102, 102, 51)]\n",
      "(103, 101, 53) 103.0 0.0 101.0 102.0 (102, 102, 51)\n",
      "[(0, 255, 0), (0, 120, 255)]\n",
      "(0, 254, 0) 0.0 0.0 254.0 120.0 (0, 255, 0)\n",
      "[(102, 102, 51)]\n",
      "(103, 103, 53) 103.0 0.0 103.0 102.0 (102, 102, 51)\n",
      "[(102, 102, 51)]\n",
      "(103, 101, 52) 103.0 0.0 101.0 102.0 (102, 102, 51)\n",
      "[(170, 170, 170)]\n",
      "(171, 171, 171) 171.0 0.0 171.0 170.0 (170, 170, 170)\n",
      "[(170, 170, 170)]\n",
      "(170, 172, 171) 170.0 0.0 172.0 170.0 (170, 170, 170)\n",
      "[(102, 102, 51)]\n",
      "(104, 102, 53) 104.0 0.0 102.0 102.0 (102, 102, 51)\n",
      "[(0, 255, 0), (0, 120, 255)]\n",
      "(0, 121, 254) 0.0 0.0 121.0 120.0 (0, 120, 255)\n",
      "[(102, 102, 51)]\n",
      "(103, 101, 50) 103.0 0.0 101.0 102.0 (102, 102, 51)\n",
      "[(102, 102, 51)]\n",
      "(100, 102, 52) 100.0 0.0 102.0 102.0 (102, 102, 51)\n",
      "[(170, 170, 170)]\n",
      "(171, 171, 173) 171.0 0.0 171.0 170.0 (170, 170, 170)\n",
      "[(102, 102, 51)]\n",
      "(102, 102, 52) 102.0 0.0 102.0 102.0 (102, 102, 51)\n",
      "[(0, 255, 0), (0, 120, 255)]\n",
      "(0, 121, 255) 0.0 0.0 121.0 120.0 (0, 120, 255)\n",
      "[(102, 102, 51)]\n",
      "(102, 101, 53) 102.0 0.0 101.0 102.0 (102, 102, 51)\n",
      "[(0, 255, 0), (0, 120, 255)]\n",
      "(0, 118, 254) 0.0 0.0 118.0 120.0 (0, 120, 255)\n",
      "[(102, 102, 51)]\n",
      "(101, 103, 53) 101.0 0.0 103.0 102.0 (102, 102, 51)\n",
      "[(170, 170, 170)]\n",
      "(171, 169, 172) 171.0 0.0 169.0 170.0 (170, 170, 170)\n",
      "[(0, 255, 0), (0, 120, 255)]\n",
      "(0, 255, 0) 0.0 0.0 255.0 120.0 (0, 255, 0)\n",
      "[(0, 255, 0), (0, 120, 255)]\n",
      "(1, 119, 255) 1.0 0.0 119.0 120.0 (0, 120, 255)\n",
      "[[(101, 101, 49), (102, 102, 51)], [(0, 255, 1), (0, 255, 0)], [(171, 169, 170), (170, 170, 170)], [(104, 102, 51), (102, 102, 51)], [(101, 101, 51), (102, 102, 51)], [(0, 120, 255), (0, 120, 255)], [(169, 169, 169), (170, 170, 170)], [(170, 170, 170), (170, 170, 170)], [(172, 171, 169), (170, 170, 170)], [(0, 120, 253), (0, 120, 255)], [(100, 103, 50), (102, 102, 51)], [(102, 100, 51), (102, 102, 51)], [(170, 170, 168), (170, 170, 170)], [(2, 120, 255), (0, 120, 255)], [(169, 171, 170), (170, 170, 170)], [(2, 120, 254), (0, 120, 255)], [(172, 170, 171), (170, 170, 170)], [(169, 171, 168), (170, 170, 170)], [(101, 104, 51), (102, 102, 51)], [(1, 255, 1), (0, 255, 0)], [(102, 102, 50), (102, 102, 51)], [(170, 170, 172), (170, 170, 170)], [(1, 255, 0), (0, 255, 0)], [(103, 103, 51), (102, 102, 51)], [(0, 119, 255), (0, 120, 255)], [(171, 171, 169), (170, 170, 170)], [(102, 102, 48), (102, 102, 51)], [(103, 101, 53), (102, 102, 51)], [(0, 254, 0), (0, 255, 0)], [(103, 103, 53), (102, 102, 51)], [(103, 101, 52), (102, 102, 51)], [(171, 171, 171), (170, 170, 170)], [(170, 172, 171), (170, 170, 170)], [(104, 102, 53), (102, 102, 51)], [(0, 121, 254), (0, 120, 255)], [(103, 101, 50), (102, 102, 51)], [(100, 102, 52), (102, 102, 51)], [(171, 171, 173), (170, 170, 170)], [(102, 102, 52), (102, 102, 51)], [(0, 121, 255), (0, 120, 255)], [(102, 101, 53), (102, 102, 51)], [(0, 118, 254), (0, 120, 255)], [(101, 103, 53), (102, 102, 51)], [(171, 169, 172), (170, 170, 170)], [(0, 255, 0), (0, 255, 0)], [(1, 119, 255), (0, 120, 255)]]\n"
     ]
    }
   ],
   "source": [
    "ref_color_set = gt_color_ref\n",
    "color_set_map = []\n",
    "for color in color_set:\n",
    "    these_ref_color = []\n",
    "    c1 = color[0] + 0.00001\n",
    "    for ref_color in ref_color_set:\n",
    "        ref_c1 = ref_color[0] + 0.00001\n",
    "        rel_c1 = round(math.sqrt(abs(c1 - ref_c1)**2))\n",
    "        if( rel_c1 <= 2 ):\n",
    "            these_ref_color.append(ref_color)\n",
    "    print(these_ref_color)\n",
    "    # loop in the sub array if more than one color\n",
    "    this_ref_color = ()\n",
    "    c2 = color[1] + 0.00001\n",
    "    for ref_color in these_ref_color:\n",
    "        ref_c2 = ref_color[1] + 0.00001\n",
    "        rel_c2 = round(math.sqrt(abs(c2 - ref_c2)**2))\n",
    "        if( rel_c2 <= 2 ):\n",
    "            this_ref_color = ref_color\n",
    "    print(color, round(c1), round(ref_c1), round(c2), round(ref_c2), this_ref_color)\n",
    "    color_set_map.append([color, this_ref_color])\n",
    "print(color_set_map)"
   ]
  },
  {
   "cell_type": "code",
   "execution_count": 178,
   "metadata": {
    "scrolled": true
   },
   "outputs": [
    {
     "data": {
      "text/plain": [
       "(array([[102, 102, 102, ...,   0,   0,   0],\n",
       "        [102, 102, 102, ...,   0,   0,   0],\n",
       "        [102, 102, 102, ...,   0,   0,   0],\n",
       "        ...,\n",
       "        [  0,   0,   0, ...,   0,   0,   0],\n",
       "        [  0,   0,   0, ...,   0,   0,   0],\n",
       "        [  0,   0,   0, ...,   0,   0,   0]], dtype=uint8),\n",
       " array([[102, 102, 102, ..., 255, 255, 255],\n",
       "        [102, 102, 102, ..., 255, 255, 255],\n",
       "        [102, 102, 102, ..., 255, 255, 255],\n",
       "        ...,\n",
       "        [120, 120, 120, ..., 255, 255, 255],\n",
       "        [120, 120, 120, ..., 255, 255, 255],\n",
       "        [120, 120, 120, ..., 255, 255, 255]], dtype=uint8),\n",
       " array([[ 52,  52,  52, ...,   1,   1,   1],\n",
       "        [ 52,  52,  52, ...,   1,   1,   1],\n",
       "        [ 52,  52,  52, ...,   1,   1,   1],\n",
       "        ...,\n",
       "        [255, 255, 255, ...,   1,   1,   1],\n",
       "        [255, 255, 255, ...,   1,   1,   1],\n",
       "        [255, 255, 255, ...,   1,   1,   1]], dtype=uint8))"
      ]
     },
     "execution_count": 178,
     "metadata": {},
     "output_type": "execute_result"
    }
   ],
   "source": [
    "red, green, blue = pred_data.T # Temporarily unpack the bands for readability\n",
    "red, green, blue"
   ]
  },
  {
   "cell_type": "markdown",
   "metadata": {},
   "source": [
    "replace some color by it's reference"
   ]
  },
  {
   "cell_type": "code",
   "execution_count": 179,
   "metadata": {},
   "outputs": [],
   "source": [
    "# Replace pred_color with reference\n",
    "# source: https://stackoverflow.com/questions/3752476/python-pil-replace-a-single-rgba-color\n",
    "# some_color = (red == 101) & (green == 101) & (blue == 49)\n",
    "# pred_data[some_color.T] = (102, 102, 51) # Transpose back needed"
   ]
  },
  {
   "cell_type": "code",
   "execution_count": 180,
   "metadata": {},
   "outputs": [],
   "source": [
    "for c in color_set_map:\n",
    "    # Replace pred_color with reference\n",
    "    some_color = (red == c[0][0]) & (green == c[0][1]) & (blue == c[0][2])\n",
    "    pred_data[some_color.T] = (c[1][0], c[1][1], c[1][2]) # Transpose back needed"
   ]
  },
  {
   "cell_type": "code",
   "execution_count": 181,
   "metadata": {},
   "outputs": [
    {
     "data": {
      "text/plain": [
       "{(0, 120, 255), (0, 255, 0), (102, 102, 51), (170, 170, 170)}"
      ]
     },
     "execution_count": 181,
     "metadata": {},
     "output_type": "execute_result"
    }
   ],
   "source": [
    "color_set = set( tuple(v) for m2d in pred_data for v in m2d )\n",
    "color_set"
   ]
  },
  {
   "cell_type": "markdown",
   "metadata": {},
   "source": [
    "reconvert into an image"
   ]
  },
  {
   "cell_type": "code",
   "execution_count": 182,
   "metadata": {},
   "outputs": [
    {
     "data": {
      "image/png": "[encoded data removed]",
      "text/plain": [
       "<PIL.Image.Image image mode=RGB size=868x481 at 0x2ACB36477B00>"
      ]
     },
     "execution_count": 182,
     "metadata": {},
     "output_type": "execute_result"
    }
   ],
   "source": [
    "im2 = Image.fromarray(pred_data)\n",
    "im2"
   ]
  },
  {
   "cell_type": "code",
   "execution_count": 183,
   "metadata": {},
   "outputs": [
    {
     "data": {
      "image/png": "[encoded data removed]",
      "text/plain": [
       "<PIL.Image.Image image mode=RGB size=868x481 at 0x2ACB36286A58>"
      ]
     },
     "execution_count": 183,
     "metadata": {},
     "output_type": "execute_result"
    }
   ],
   "source": [
    "color_pred_img_rgb"
   ]
  },
  {
   "cell_type": "markdown",
   "metadata": {},
   "source": [
    "convert color to class"
   ]
  },
  {
   "cell_type": "code",
   "execution_count": 184,
   "metadata": {},
   "outputs": [],
   "source": [
    "#x = torch.LongTensor([[102, 102, 51]])\n",
    "#x"
   ]
  },
  {
   "cell_type": "code",
   "execution_count": 185,
   "metadata": {},
   "outputs": [],
   "source": [
    "#arg = torch.LongTensor(pred_data)\n",
    "#arg"
   ]
  },
  {
   "cell_type": "code",
   "execution_count": 186,
   "metadata": {},
   "outputs": [
    {
     "data": {
      "text/plain": [
       "array([[  0, 120, 255],\n",
       "       [  0, 255,   0],\n",
       "       [102, 102,  51],\n",
       "       [170, 170, 170]], dtype=uint8)"
      ]
     },
     "execution_count": 186,
     "metadata": {},
     "output_type": "execute_result"
    }
   ],
   "source": [
    "palette = np.array([(0, 120, 255), (0, 255, 0), (102, 102, 51), (170, 170, 170)], np.uint8)\n",
    "palette"
   ]
  },
  {
   "cell_type": "code",
   "execution_count": 187,
   "metadata": {},
   "outputs": [
    {
     "data": {
      "text/plain": [
       "array([[[102, 102,  52],\n",
       "        [102, 102,  52],\n",
       "        [102, 102,  52],\n",
       "        ...,\n",
       "        [  0, 120, 255],\n",
       "        [  0, 120, 255],\n",
       "        [  0, 120, 255]],\n",
       "\n",
       "       [[102, 102,  52],\n",
       "        [102, 102,  52],\n",
       "        [102, 102,  52],\n",
       "        ...,\n",
       "        [  0, 120, 255],\n",
       "        [  0, 120, 255],\n",
       "        [  0, 120, 255]],\n",
       "\n",
       "       [[102, 102,  52],\n",
       "        [102, 102,  52],\n",
       "        [102, 102,  52],\n",
       "        ...,\n",
       "        [  0, 120, 255],\n",
       "        [  0, 120, 255],\n",
       "        [  0, 120, 255]],\n",
       "\n",
       "       ...,\n",
       "\n",
       "       [[  0, 255,   1],\n",
       "        [  0, 255,   1],\n",
       "        [  0, 255,   1],\n",
       "        ...,\n",
       "        [  0, 255,   1],\n",
       "        [  0, 255,   1],\n",
       "        [  0, 255,   1]],\n",
       "\n",
       "       [[  0, 255,   1],\n",
       "        [  0, 255,   1],\n",
       "        [  0, 255,   1],\n",
       "        ...,\n",
       "        [  0, 255,   1],\n",
       "        [  0, 255,   1],\n",
       "        [  0, 255,   1]],\n",
       "\n",
       "       [[  0, 255,   1],\n",
       "        [  0, 255,   1],\n",
       "        [  0, 255,   1],\n",
       "        ...,\n",
       "        [  0, 255,   1],\n",
       "        [  0, 255,   1],\n",
       "        [  0, 255,   1]]], dtype=uint8)"
      ]
     },
     "execution_count": 187,
     "metadata": {},
     "output_type": "execute_result"
    }
   ],
   "source": [
    "color_pred_img_io_imread"
   ]
  },
  {
   "cell_type": "code",
   "execution_count": 188,
   "metadata": {},
   "outputs": [
    {
     "data": {
      "text/plain": [
       "[<tf.Tensor: shape=(481, 868), dtype=bool, numpy=\n",
       " array([[False, False, False, ...,  True,  True,  True],\n",
       "        [False, False, False, ...,  True,  True,  True],\n",
       "        [False, False, False, ...,  True,  True,  True],\n",
       "        ...,\n",
       "        [False, False, False, ..., False, False, False],\n",
       "        [False, False, False, ..., False, False, False],\n",
       "        [False, False, False, ..., False, False, False]])>,\n",
       " <tf.Tensor: shape=(481, 868), dtype=bool, numpy=\n",
       " array([[False, False, False, ..., False, False, False],\n",
       "        [False, False, False, ..., False, False, False],\n",
       "        [False, False, False, ..., False, False, False],\n",
       "        ...,\n",
       "        [ True,  True,  True, ...,  True,  True,  True],\n",
       "        [ True,  True,  True, ...,  True,  True,  True],\n",
       "        [ True,  True,  True, ...,  True,  True,  True]])>,\n",
       " <tf.Tensor: shape=(481, 868), dtype=bool, numpy=\n",
       " array([[ True,  True,  True, ..., False, False, False],\n",
       "        [ True,  True,  True, ..., False, False, False],\n",
       "        [ True,  True,  True, ..., False, False, False],\n",
       "        ...,\n",
       "        [False, False, False, ..., False, False, False],\n",
       "        [False, False, False, ..., False, False, False],\n",
       "        [False, False, False, ..., False, False, False]])>,\n",
       " <tf.Tensor: shape=(481, 868), dtype=bool, numpy=\n",
       " array([[False, False, False, ..., False, False, False],\n",
       "        [False, False, False, ..., False, False, False],\n",
       "        [False, False, False, ..., False, False, False],\n",
       "        ...,\n",
       "        [False, False, False, ..., False, False, False],\n",
       "        [False, False, False, ..., False, False, False],\n",
       "        [False, False, False, ..., False, False, False]])>]"
      ]
     },
     "execution_count": 188,
     "metadata": {},
     "output_type": "execute_result"
    }
   ],
   "source": [
    "semantic_map = []\n",
    "for colour in palette:\n",
    "  class_map = tf.reduce_all(tf.equal(pred_data, colour), axis=-1)\n",
    "  semantic_map.append(class_map)\n",
    "semantic_map"
   ]
  },
  {
   "cell_type": "code",
   "execution_count": 189,
   "metadata": {},
   "outputs": [
    {
     "data": {
      "text/plain": [
       "<tf.Tensor: shape=(481, 868, 4), dtype=bool, numpy=\n",
       "array([[[False, False,  True, False],\n",
       "        [False, False,  True, False],\n",
       "        [False, False,  True, False],\n",
       "        ...,\n",
       "        [ True, False, False, False],\n",
       "        [ True, False, False, False],\n",
       "        [ True, False, False, False]],\n",
       "\n",
       "       [[False, False,  True, False],\n",
       "        [False, False,  True, False],\n",
       "        [False, False,  True, False],\n",
       "        ...,\n",
       "        [ True, False, False, False],\n",
       "        [ True, False, False, False],\n",
       "        [ True, False, False, False]],\n",
       "\n",
       "       [[False, False,  True, False],\n",
       "        [False, False,  True, False],\n",
       "        [False, False,  True, False],\n",
       "        ...,\n",
       "        [ True, False, False, False],\n",
       "        [ True, False, False, False],\n",
       "        [ True, False, False, False]],\n",
       "\n",
       "       ...,\n",
       "\n",
       "       [[False,  True, False, False],\n",
       "        [False,  True, False, False],\n",
       "        [False,  True, False, False],\n",
       "        ...,\n",
       "        [False,  True, False, False],\n",
       "        [False,  True, False, False],\n",
       "        [False,  True, False, False]],\n",
       "\n",
       "       [[False,  True, False, False],\n",
       "        [False,  True, False, False],\n",
       "        [False,  True, False, False],\n",
       "        ...,\n",
       "        [False,  True, False, False],\n",
       "        [False,  True, False, False],\n",
       "        [False,  True, False, False]],\n",
       "\n",
       "       [[False,  True, False, False],\n",
       "        [False,  True, False, False],\n",
       "        [False,  True, False, False],\n",
       "        ...,\n",
       "        [False,  True, False, False],\n",
       "        [False,  True, False, False],\n",
       "        [False,  True, False, False]]])>"
      ]
     },
     "execution_count": 189,
     "metadata": {},
     "output_type": "execute_result"
    }
   ],
   "source": [
    "semantic_map = tf.stack(semantic_map, axis=-1)\n",
    "semantic_map"
   ]
  },
  {
   "cell_type": "code",
   "execution_count": 190,
   "metadata": {},
   "outputs": [
    {
     "data": {
      "text/plain": [
       "<tf.Tensor: shape=(481, 868, 4), dtype=float32, numpy=\n",
       "array([[[0., 0., 1., 0.],\n",
       "        [0., 0., 1., 0.],\n",
       "        [0., 0., 1., 0.],\n",
       "        ...,\n",
       "        [1., 0., 0., 0.],\n",
       "        [1., 0., 0., 0.],\n",
       "        [1., 0., 0., 0.]],\n",
       "\n",
       "       [[0., 0., 1., 0.],\n",
       "        [0., 0., 1., 0.],\n",
       "        [0., 0., 1., 0.],\n",
       "        ...,\n",
       "        [1., 0., 0., 0.],\n",
       "        [1., 0., 0., 0.],\n",
       "        [1., 0., 0., 0.]],\n",
       "\n",
       "       [[0., 0., 1., 0.],\n",
       "        [0., 0., 1., 0.],\n",
       "        [0., 0., 1., 0.],\n",
       "        ...,\n",
       "        [1., 0., 0., 0.],\n",
       "        [1., 0., 0., 0.],\n",
       "        [1., 0., 0., 0.]],\n",
       "\n",
       "       ...,\n",
       "\n",
       "       [[0., 1., 0., 0.],\n",
       "        [0., 1., 0., 0.],\n",
       "        [0., 1., 0., 0.],\n",
       "        ...,\n",
       "        [0., 1., 0., 0.],\n",
       "        [0., 1., 0., 0.],\n",
       "        [0., 1., 0., 0.]],\n",
       "\n",
       "       [[0., 1., 0., 0.],\n",
       "        [0., 1., 0., 0.],\n",
       "        [0., 1., 0., 0.],\n",
       "        ...,\n",
       "        [0., 1., 0., 0.],\n",
       "        [0., 1., 0., 0.],\n",
       "        [0., 1., 0., 0.]],\n",
       "\n",
       "       [[0., 1., 0., 0.],\n",
       "        [0., 1., 0., 0.],\n",
       "        [0., 1., 0., 0.],\n",
       "        ...,\n",
       "        [0., 1., 0., 0.],\n",
       "        [0., 1., 0., 0.],\n",
       "        [0., 1., 0., 0.]]], dtype=float32)>"
      ]
     },
     "execution_count": 190,
     "metadata": {},
     "output_type": "execute_result"
    }
   ],
   "source": [
    "# NOTE cast to tf.float32 because most neural networks operate in float32.\n",
    "semantic_map = tf.cast(semantic_map, tf.float32)\n",
    "semantic_map"
   ]
  },
  {
   "cell_type": "code",
   "execution_count": 191,
   "metadata": {},
   "outputs": [
    {
     "data": {
      "text/plain": [
       "TensorShape([481, 868, 4])"
      ]
     },
     "execution_count": 191,
     "metadata": {},
     "output_type": "execute_result"
    }
   ],
   "source": [
    "semantic_map.shape"
   ]
  },
  {
   "cell_type": "code",
   "execution_count": 199,
   "metadata": {},
   "outputs": [
    {
     "data": {
      "text/plain": [
       "array([[[[0., 0., 1., 0.],\n",
       "         [0., 0., 1., 0.],\n",
       "         [0., 0., 1., 0.],\n",
       "         ...,\n",
       "         [1., 0., 0., 0.],\n",
       "         [1., 0., 0., 0.],\n",
       "         [1., 0., 0., 0.]],\n",
       "\n",
       "        [[0., 0., 1., 0.],\n",
       "         [0., 0., 1., 0.],\n",
       "         [0., 0., 1., 0.],\n",
       "         ...,\n",
       "         [1., 0., 0., 0.],\n",
       "         [1., 0., 0., 0.],\n",
       "         [1., 0., 0., 0.]],\n",
       "\n",
       "        [[0., 0., 1., 0.],\n",
       "         [0., 0., 1., 0.],\n",
       "         [0., 0., 1., 0.],\n",
       "         ...,\n",
       "         [1., 0., 0., 0.],\n",
       "         [1., 0., 0., 0.],\n",
       "         [1., 0., 0., 0.]],\n",
       "\n",
       "        ...,\n",
       "\n",
       "        [[0., 1., 0., 0.],\n",
       "         [0., 1., 0., 0.],\n",
       "         [0., 1., 0., 0.],\n",
       "         ...,\n",
       "         [0., 1., 0., 0.],\n",
       "         [0., 1., 0., 0.],\n",
       "         [0., 1., 0., 0.]],\n",
       "\n",
       "        [[0., 1., 0., 0.],\n",
       "         [0., 1., 0., 0.],\n",
       "         [0., 1., 0., 0.],\n",
       "         ...,\n",
       "         [0., 1., 0., 0.],\n",
       "         [0., 1., 0., 0.],\n",
       "         [0., 1., 0., 0.]],\n",
       "\n",
       "        [[0., 1., 0., 0.],\n",
       "         [0., 1., 0., 0.],\n",
       "         [0., 1., 0., 0.],\n",
       "         ...,\n",
       "         [0., 1., 0., 0.],\n",
       "         [0., 1., 0., 0.],\n",
       "         [0., 1., 0., 0.]]]], dtype=float32)"
      ]
     },
     "execution_count": 199,
     "metadata": {},
     "output_type": "execute_result"
    }
   ],
   "source": [
    "y_pred = np.expand_dims(semantic_map,0)\n",
    "y_pred"
   ]
  },
  {
   "cell_type": "code",
   "execution_count": 200,
   "metadata": {},
   "outputs": [
    {
     "data": {
      "text/plain": [
       "(1, 481, 868, 4)"
      ]
     },
     "execution_count": 200,
     "metadata": {},
     "output_type": "execute_result"
    }
   ],
   "source": [
    "y_pred.shape"
   ]
  },
  {
   "cell_type": "code",
   "execution_count": 202,
   "metadata": {},
   "outputs": [],
   "source": [
    "def iou_score(y_true, y_pred):\n",
    "  intersection = np.logical_and(y_true, y_pred)\n",
    "  union = np.logical_or(y_true, y_pred)\n",
    "  iou_score = np.sum(intersection) / np.sum(union)\n",
    "  return iou_score"
   ]
  },
  {
   "cell_type": "code",
   "execution_count": 206,
   "metadata": {},
   "outputs": [
    {
     "data": {
      "text/plain": [
       "array([[[[0., 0., 1., 0.],\n",
       "         [0., 0., 1., 0.],\n",
       "         [0., 0., 1., 0.],\n",
       "         ...,\n",
       "         [1., 0., 0., 0.],\n",
       "         [1., 0., 0., 0.],\n",
       "         [1., 0., 0., 0.]],\n",
       "\n",
       "        [[0., 0., 1., 0.],\n",
       "         [0., 0., 1., 0.],\n",
       "         [0., 0., 1., 0.],\n",
       "         ...,\n",
       "         [1., 0., 0., 0.],\n",
       "         [1., 0., 0., 0.],\n",
       "         [1., 0., 0., 0.]],\n",
       "\n",
       "        [[0., 0., 1., 0.],\n",
       "         [0., 0., 1., 0.],\n",
       "         [0., 0., 1., 0.],\n",
       "         ...,\n",
       "         [1., 0., 0., 0.],\n",
       "         [1., 0., 0., 0.],\n",
       "         [1., 0., 0., 0.]],\n",
       "\n",
       "        ...,\n",
       "\n",
       "        [[0., 1., 0., 0.],\n",
       "         [0., 1., 0., 0.],\n",
       "         [0., 1., 0., 0.],\n",
       "         ...,\n",
       "         [0., 1., 0., 0.],\n",
       "         [0., 1., 0., 0.],\n",
       "         [0., 1., 0., 0.]],\n",
       "\n",
       "        [[0., 1., 0., 0.],\n",
       "         [0., 1., 0., 0.],\n",
       "         [0., 1., 0., 0.],\n",
       "         ...,\n",
       "         [0., 1., 0., 0.],\n",
       "         [0., 1., 0., 0.],\n",
       "         [0., 1., 0., 0.]],\n",
       "\n",
       "        [[0., 1., 0., 0.],\n",
       "         [0., 1., 0., 0.],\n",
       "         [0., 1., 0., 0.],\n",
       "         ...,\n",
       "         [0., 1., 0., 0.],\n",
       "         [0., 1., 0., 0.],\n",
       "         [0., 1., 0., 0.]]]], dtype=float32)"
      ]
     },
     "execution_count": 206,
     "metadata": {},
     "output_type": "execute_result"
    }
   ],
   "source": [
    "gt_semantic_map = []\n",
    "for colour in palette:\n",
    "  class_map = tf.reduce_all(tf.equal(gt_data, colour), axis=-1)\n",
    "  gt_semantic_map.append(class_map)\n",
    "gt_semantic_map\n",
    "gt_semantic_map = tf.stack(gt_semantic_map, axis=-1)\n",
    "gt_semantic_map\n",
    "# NOTE cast to tf.float32 because most neural networks operate in float32.\n",
    "gt_semantic_map = tf.cast(gt_semantic_map, tf.float32)\n",
    "gt_semantic_map\n",
    "y_true = np.expand_dims(gt_semantic_map,0)\n",
    "y_true"
   ]
  },
  {
   "cell_type": "code",
   "execution_count": 207,
   "metadata": {},
   "outputs": [
    {
     "data": {
      "text/plain": [
       "0.8455390749495525"
      ]
     },
     "execution_count": 207,
     "metadata": {},
     "output_type": "execute_result"
    }
   ],
   "source": [
    "iou_score(y_true, y_pred)"
   ]
  },
  {
   "cell_type": "code",
   "execution_count": 203,
   "metadata": {},
   "outputs": [],
   "source": [
    "#palette = tf.constant(palette, dtype=tf.uint8)\n",
    "#palette"
   ]
  },
  {
   "cell_type": "code",
   "execution_count": 204,
   "metadata": {},
   "outputs": [],
   "source": [
    "#class_indexes = tf.argmax(semantic_map, axis=-1)\n",
    "#class_indexes.shape"
   ]
  },
  {
   "cell_type": "code",
   "execution_count": 205,
   "metadata": {},
   "outputs": [],
   "source": [
    "#new = np.expand_dims(class_indexes,0)\n",
    "#new.shape"
   ]
  },
  {
   "cell_type": "code",
   "execution_count": 195,
   "metadata": {},
   "outputs": [],
   "source": [
    "#new2 = np.stack((new,)*4,-1)\n",
    "#new2.shape"
   ]
  },
  {
   "cell_type": "code",
   "execution_count": 196,
   "metadata": {},
   "outputs": [],
   "source": [
    "#new2"
   ]
  },
  {
   "cell_type": "code",
   "execution_count": 197,
   "metadata": {},
   "outputs": [],
   "source": [
    "# NOTE this operation flattens class_indexes\n",
    "#class_indexes = tf.reshape(class_indexes, [-1])\n",
    "#class_indexes"
   ]
  },
  {
   "cell_type": "code",
   "execution_count": 198,
   "metadata": {},
   "outputs": [],
   "source": [
    "#color_image = tf.gather(palette, class_indexes)\n",
    "#color_image"
   ]
  },
  {
   "cell_type": "code",
   "execution_count": null,
   "metadata": {},
   "outputs": [],
   "source": []
  },
  {
   "cell_type": "code",
   "execution_count": null,
   "metadata": {},
   "outputs": [],
   "source": []
  },
  {
   "cell_type": "code",
   "execution_count": 167,
   "metadata": {},
   "outputs": [],
   "source": [
    "#converted_tensor = torch.nn.functional.embedding(torch.LongTensor([102]), x)\n",
    "#converted_tensor"
   ]
  },
  {
   "cell_type": "code",
   "execution_count": null,
   "metadata": {},
   "outputs": [],
   "source": []
  },
  {
   "cell_type": "code",
   "execution_count": null,
   "metadata": {},
   "outputs": [],
   "source": []
  },
  {
   "cell_type": "code",
   "execution_count": null,
   "metadata": {},
   "outputs": [],
   "source": []
  }
 ],
 "metadata": {
  "kernelspec": {
   "display_name": "Python 3",
   "language": "python",
   "name": "python3"
  },
  "language_info": {
   "codemirror_mode": {
    "name": "ipython",
    "version": 3
   },
   "file_extension": ".py",
   "mimetype": "text/x-python",
   "name": "python",
   "nbconvert_exporter": "python",
   "pygments_lexer": "ipython3",
   "version": "3.6.3"
  }
 },
 "nbformat": 4,
 "nbformat_minor": 4
}
